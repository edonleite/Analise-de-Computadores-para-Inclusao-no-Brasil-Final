{
  "cells": [
    {
      "cell_type": "markdown",
      "metadata": {
        "id": "LifP638nSvRm"
      },
      "source": [
        "# Análise de Computadores para Inclusão no Brasil.\n",
        "\n",
        "Link para os Dados do Governo Federal: https://www.gov.br/mcom/pt-br/acesso-a-informacao/acoes-e-programas/computadores-para-inclusao"
      ]
    },
    {
      "cell_type": "markdown",
      "metadata": {
        "id": "7xcOUyYcSvRt"
      },
      "source": [
        "# Importar bibliotecas."
      ]
    },
    {
      "cell_type": "code",
      "execution_count": null,
      "metadata": {
        "id": "GjQKqKR-SvRu"
      },
      "outputs": [],
      "source": [
        "#Importar bibliotecas necessárias.\n",
        "import pandas as pd\n",
        "import numpy as np\n",
        "import matplotlib.pyplot as plt\n",
        "import seaborn as sns\n",
        "sns.set(style='whitegrid')\n",
        "import warnings\n",
        "warnings.simplefilter(action=\"ignore\", category=FutureWarning)\n",
        "\n",
        "'''Machine Learning'''\n",
        "from sklearn import tree\n",
        "from sklearn.compose import make_column_transformer, make_column_selector\n",
        "from sklearn.impute import SimpleImputer\n",
        "from sklearn.neighbors import KNeighborsClassifier\n",
        "from sklearn.model_selection import cross_val_score\n",
        "from sklearn.ensemble import RandomForestClassifier\n",
        "from sklearn import svm\n",
        "from sklearn.metrics import classification_report\n",
        "from sklearn.model_selection import train_test_split\n",
        "from sklearn.preprocessing import StandardScaler, LabelEncoder, OneHotEncoder\n",
        "import warnings\n",
        "from sklearn.metrics import plot_confusion_matrix, precision_score, recall_score, f1_score, classification_report, accuracy_score\n",
        "from sklearn import tree\n",
        "from sklearn import svm\n",
        "from sklearn.tree import DecisionTreeClassifier\n",
        "#!pip install imblearn\n",
        "from imblearn.over_sampling import SMOTE\n",
        "from sklearn.feature_selection import SelectKBest\n",
        "from sklearn.feature_selection import mutual_info_classif\n",
        "%matplotlib inline\n",
        "!pip install wordcloud -q\n",
        "warnings.filterwarnings('ignore')\n",
        "from sklearn.naive_bayes import GaussianNB\n",
        "from sklearn.neighbors import KNeighborsClassifier\n",
        "from sklearn.model_selection import train_test_split, GridSearchCV\n",
        "from sklearn.metrics import confusion_matrix, accuracy_score, recall_score, precision_score, roc_curve, roc_auc_score"
      ]
    },
    {
      "cell_type": "markdown",
      "metadata": {
        "id": "y01jkYT_SvRx"
      },
      "source": [
        "# Coleta de dados.\n",
        "\n",
        "#### Dados foram unificados com o Knime.\n",
        "\n",
        "Limpeza dos dados na base.\n",
        "\n",
        "Colunas foram removidas com o objetivo de iniciar uma limpeza geral da base."
      ]
    },
    {
      "cell_type": "code",
      "execution_count": null,
      "metadata": {
        "id": "m899_U8lSvRx"
      },
      "outputs": [],
      "source": [
        "# DataFrame\n",
        "\n",
        "inclusao = pd.read_csv(r'/content/crc.csv', sep=';', encoding='UTF-8', nrows = 100000, error_bad_lines=False, engine='python')"
      ]
    },
    {
      "cell_type": "markdown",
      "metadata": {
        "id": "kaOqcJkrSvRy"
      },
      "source": [
        "# Visualização do Dataframe."
      ]
    },
    {
      "cell_type": "code",
      "execution_count": null,
      "metadata": {
        "id": "CXxN9A8PSvR0",
        "scrolled": false,
        "colab": {
          "base_uri": "https://localhost:8080/",
          "height": 581
        },
        "outputId": "f2a3b69d-c69b-46ab-ad5e-7b5207794025"
      },
      "outputs": [
        {
          "output_type": "execute_result",
          "data": {
            "text/html": [
              "\n",
              "  <div id=\"df-bd78d5fc-6a5a-49de-ae9c-868aa88db74f\">\n",
              "    <div class=\"colab-df-container\">\n",
              "      <div>\n",
              "<style scoped>\n",
              "    .dataframe tbody tr th:only-of-type {\n",
              "        vertical-align: middle;\n",
              "    }\n",
              "\n",
              "    .dataframe tbody tr th {\n",
              "        vertical-align: top;\n",
              "    }\n",
              "\n",
              "    .dataframe thead th {\n",
              "        text-align: right;\n",
              "    }\n",
              "</style>\n",
              "<table border=\"1\" class=\"dataframe\">\n",
              "  <thead>\n",
              "    <tr style=\"text-align: right;\">\n",
              "      <th></th>\n",
              "      <th>ANO</th>\n",
              "      <th>Região</th>\n",
              "      <th>UF</th>\n",
              "      <th>CPU</th>\n",
              "      <th>NOTE</th>\n",
              "      <th>MONITOR</th>\n",
              "      <th>IMPRESS</th>\n",
              "      <th>SEXO</th>\n",
              "      <th>CURSO_JOV</th>\n",
              "      <th>CATEGORIA</th>\n",
              "      <th>CARGA_HORAS</th>\n",
              "    </tr>\n",
              "  </thead>\n",
              "  <tbody>\n",
              "    <tr>\n",
              "      <th>0</th>\n",
              "      <td>2018</td>\n",
              "      <td>Sudeste</td>\n",
              "      <td>SP</td>\n",
              "      <td>14.0</td>\n",
              "      <td>0.0</td>\n",
              "      <td>5.0</td>\n",
              "      <td>8.0</td>\n",
              "      <td>MAS</td>\n",
              "      <td>INF. BÁSICA - MONTAGEM E MANUTENÇÃO DE COMP. -...</td>\n",
              "      <td>MANUTENÇÃO E RECONDICIONAMENTO</td>\n",
              "      <td>70.0</td>\n",
              "    </tr>\n",
              "    <tr>\n",
              "      <th>1</th>\n",
              "      <td>2018</td>\n",
              "      <td>Centro-Oeste</td>\n",
              "      <td>MS</td>\n",
              "      <td>25.0</td>\n",
              "      <td>2.0</td>\n",
              "      <td>1.0</td>\n",
              "      <td>6.0</td>\n",
              "      <td>MAS</td>\n",
              "      <td>INF. BÁSICA - MONTAGEM E MANUTENÇÃO DE COMP. -...</td>\n",
              "      <td>MANUTENÇÃO E RECONDICIONAMENTO</td>\n",
              "      <td>70.0</td>\n",
              "    </tr>\n",
              "    <tr>\n",
              "      <th>2</th>\n",
              "      <td>2018</td>\n",
              "      <td>Sudeste</td>\n",
              "      <td>SP</td>\n",
              "      <td>10.0</td>\n",
              "      <td>4.0</td>\n",
              "      <td>5.0</td>\n",
              "      <td>8.0</td>\n",
              "      <td>MAS</td>\n",
              "      <td>INF. BÁSICA - MONTAGEM E MANUTENÇÃO DE COMP. -...</td>\n",
              "      <td>MANUTENÇÃO E RECONDICIONAMENTO</td>\n",
              "      <td>70.0</td>\n",
              "    </tr>\n",
              "    <tr>\n",
              "      <th>3</th>\n",
              "      <td>2018</td>\n",
              "      <td>Centro-Oeste</td>\n",
              "      <td>DF</td>\n",
              "      <td>36.0</td>\n",
              "      <td>11.0</td>\n",
              "      <td>80.0</td>\n",
              "      <td>3.0</td>\n",
              "      <td>MAS</td>\n",
              "      <td>INF. BÁSICA - MONTAGEM E MANUTENÇÃO DE COMP. -...</td>\n",
              "      <td>MANUTENÇÃO E RECONDICIONAMENTO</td>\n",
              "      <td>70.0</td>\n",
              "    </tr>\n",
              "    <tr>\n",
              "      <th>4</th>\n",
              "      <td>2018</td>\n",
              "      <td>Centro-Oeste</td>\n",
              "      <td>DF</td>\n",
              "      <td>36.0</td>\n",
              "      <td>11.0</td>\n",
              "      <td>80.0</td>\n",
              "      <td>3.0</td>\n",
              "      <td>MAS</td>\n",
              "      <td>INF. BÁSICA - MONTAGEM E MANUTENÇÃO DE COMP. -...</td>\n",
              "      <td>MANUTENÇÃO E RECONDICIONAMENTO</td>\n",
              "      <td>70.0</td>\n",
              "    </tr>\n",
              "    <tr>\n",
              "      <th>5</th>\n",
              "      <td>2018</td>\n",
              "      <td>Centro-Oeste</td>\n",
              "      <td>DF</td>\n",
              "      <td>0.0</td>\n",
              "      <td>0.0</td>\n",
              "      <td>0.0</td>\n",
              "      <td>0.0</td>\n",
              "      <td>MAS</td>\n",
              "      <td>INF. BÁSICA - MONTAGEM E MANUTENÇÃO DE COMP. -...</td>\n",
              "      <td>MANUTENÇÃO E RECONDICIONAMENTO</td>\n",
              "      <td>70.0</td>\n",
              "    </tr>\n",
              "    <tr>\n",
              "      <th>6</th>\n",
              "      <td>2018</td>\n",
              "      <td>Centro-Oeste</td>\n",
              "      <td>DF</td>\n",
              "      <td>30.0</td>\n",
              "      <td>2.0</td>\n",
              "      <td>39.0</td>\n",
              "      <td>0.0</td>\n",
              "      <td>MAS</td>\n",
              "      <td>INF. BÁSICA - MONTAGEM E MANUTENÇÃO DE COMP. -...</td>\n",
              "      <td>MANUTENÇÃO E RECONDICIONAMENTO</td>\n",
              "      <td>70.0</td>\n",
              "    </tr>\n",
              "    <tr>\n",
              "      <th>7</th>\n",
              "      <td>2018</td>\n",
              "      <td>Norte</td>\n",
              "      <td>AC</td>\n",
              "      <td>1.0</td>\n",
              "      <td>1.0</td>\n",
              "      <td>4.0</td>\n",
              "      <td>4.0</td>\n",
              "      <td>MAS</td>\n",
              "      <td>INF. BÁSICA - MONTAGEM E MANUTENÇÃO DE COMP. -...</td>\n",
              "      <td>MANUTENÇÃO E RECONDICIONAMENTO</td>\n",
              "      <td>70.0</td>\n",
              "    </tr>\n",
              "    <tr>\n",
              "      <th>8</th>\n",
              "      <td>2018</td>\n",
              "      <td>Sudeste</td>\n",
              "      <td>RJ</td>\n",
              "      <td>0.0</td>\n",
              "      <td>0.0</td>\n",
              "      <td>5.0</td>\n",
              "      <td>1.0</td>\n",
              "      <td>MAS</td>\n",
              "      <td>INF. BÁSICA - MONTAGEM E MANUTENÇÃO DE COMP. -...</td>\n",
              "      <td>MANUTENÇÃO E RECONDICIONAMENTO</td>\n",
              "      <td>70.0</td>\n",
              "    </tr>\n",
              "    <tr>\n",
              "      <th>9</th>\n",
              "      <td>2018</td>\n",
              "      <td>Centro-Oeste</td>\n",
              "      <td>DF</td>\n",
              "      <td>38.0</td>\n",
              "      <td>35.0</td>\n",
              "      <td>79.0</td>\n",
              "      <td>1.0</td>\n",
              "      <td>MAS</td>\n",
              "      <td>INF. BÁSICA - MONTAGEM E MANUTENÇÃO DE COMP. -...</td>\n",
              "      <td>MANUTENÇÃO E RECONDICIONAMENTO</td>\n",
              "      <td>70.0</td>\n",
              "    </tr>\n",
              "  </tbody>\n",
              "</table>\n",
              "</div>\n",
              "      <button class=\"colab-df-convert\" onclick=\"convertToInteractive('df-bd78d5fc-6a5a-49de-ae9c-868aa88db74f')\"\n",
              "              title=\"Convert this dataframe to an interactive table.\"\n",
              "              style=\"display:none;\">\n",
              "        \n",
              "  <svg xmlns=\"http://www.w3.org/2000/svg\" height=\"24px\"viewBox=\"0 0 24 24\"\n",
              "       width=\"24px\">\n",
              "    <path d=\"M0 0h24v24H0V0z\" fill=\"none\"/>\n",
              "    <path d=\"M18.56 5.44l.94 2.06.94-2.06 2.06-.94-2.06-.94-.94-2.06-.94 2.06-2.06.94zm-11 1L8.5 8.5l.94-2.06 2.06-.94-2.06-.94L8.5 2.5l-.94 2.06-2.06.94zm10 10l.94 2.06.94-2.06 2.06-.94-2.06-.94-.94-2.06-.94 2.06-2.06.94z\"/><path d=\"M17.41 7.96l-1.37-1.37c-.4-.4-.92-.59-1.43-.59-.52 0-1.04.2-1.43.59L10.3 9.45l-7.72 7.72c-.78.78-.78 2.05 0 2.83L4 21.41c.39.39.9.59 1.41.59.51 0 1.02-.2 1.41-.59l7.78-7.78 2.81-2.81c.8-.78.8-2.07 0-2.86zM5.41 20L4 18.59l7.72-7.72 1.47 1.35L5.41 20z\"/>\n",
              "  </svg>\n",
              "      </button>\n",
              "      \n",
              "  <style>\n",
              "    .colab-df-container {\n",
              "      display:flex;\n",
              "      flex-wrap:wrap;\n",
              "      gap: 12px;\n",
              "    }\n",
              "\n",
              "    .colab-df-convert {\n",
              "      background-color: #E8F0FE;\n",
              "      border: none;\n",
              "      border-radius: 50%;\n",
              "      cursor: pointer;\n",
              "      display: none;\n",
              "      fill: #1967D2;\n",
              "      height: 32px;\n",
              "      padding: 0 0 0 0;\n",
              "      width: 32px;\n",
              "    }\n",
              "\n",
              "    .colab-df-convert:hover {\n",
              "      background-color: #E2EBFA;\n",
              "      box-shadow: 0px 1px 2px rgba(60, 64, 67, 0.3), 0px 1px 3px 1px rgba(60, 64, 67, 0.15);\n",
              "      fill: #174EA6;\n",
              "    }\n",
              "\n",
              "    [theme=dark] .colab-df-convert {\n",
              "      background-color: #3B4455;\n",
              "      fill: #D2E3FC;\n",
              "    }\n",
              "\n",
              "    [theme=dark] .colab-df-convert:hover {\n",
              "      background-color: #434B5C;\n",
              "      box-shadow: 0px 1px 3px 1px rgba(0, 0, 0, 0.15);\n",
              "      filter: drop-shadow(0px 1px 2px rgba(0, 0, 0, 0.3));\n",
              "      fill: #FFFFFF;\n",
              "    }\n",
              "  </style>\n",
              "\n",
              "      <script>\n",
              "        const buttonEl =\n",
              "          document.querySelector('#df-bd78d5fc-6a5a-49de-ae9c-868aa88db74f button.colab-df-convert');\n",
              "        buttonEl.style.display =\n",
              "          google.colab.kernel.accessAllowed ? 'block' : 'none';\n",
              "\n",
              "        async function convertToInteractive(key) {\n",
              "          const element = document.querySelector('#df-bd78d5fc-6a5a-49de-ae9c-868aa88db74f');\n",
              "          const dataTable =\n",
              "            await google.colab.kernel.invokeFunction('convertToInteractive',\n",
              "                                                     [key], {});\n",
              "          if (!dataTable) return;\n",
              "\n",
              "          const docLinkHtml = 'Like what you see? Visit the ' +\n",
              "            '<a target=\"_blank\" href=https://colab.research.google.com/notebooks/data_table.ipynb>data table notebook</a>'\n",
              "            + ' to learn more about interactive tables.';\n",
              "          element.innerHTML = '';\n",
              "          dataTable['output_type'] = 'display_data';\n",
              "          await google.colab.output.renderOutput(dataTable, element);\n",
              "          const docLink = document.createElement('div');\n",
              "          docLink.innerHTML = docLinkHtml;\n",
              "          element.appendChild(docLink);\n",
              "        }\n",
              "      </script>\n",
              "    </div>\n",
              "  </div>\n",
              "  "
            ],
            "text/plain": [
              "    ANO        Região  ...                       CATEGORIA  CARGA_HORAS\n",
              "0  2018       Sudeste  ...  MANUTENÇÃO E RECONDICIONAMENTO         70.0\n",
              "1  2018  Centro-Oeste  ...  MANUTENÇÃO E RECONDICIONAMENTO         70.0\n",
              "2  2018       Sudeste  ...  MANUTENÇÃO E RECONDICIONAMENTO         70.0\n",
              "3  2018  Centro-Oeste  ...  MANUTENÇÃO E RECONDICIONAMENTO         70.0\n",
              "4  2018  Centro-Oeste  ...  MANUTENÇÃO E RECONDICIONAMENTO         70.0\n",
              "5  2018  Centro-Oeste  ...  MANUTENÇÃO E RECONDICIONAMENTO         70.0\n",
              "6  2018  Centro-Oeste  ...  MANUTENÇÃO E RECONDICIONAMENTO         70.0\n",
              "7  2018         Norte  ...  MANUTENÇÃO E RECONDICIONAMENTO         70.0\n",
              "8  2018       Sudeste  ...  MANUTENÇÃO E RECONDICIONAMENTO         70.0\n",
              "9  2018  Centro-Oeste  ...  MANUTENÇÃO E RECONDICIONAMENTO         70.0\n",
              "\n",
              "[10 rows x 11 columns]"
            ]
          },
          "metadata": {},
          "execution_count": 3
        }
      ],
      "source": [
        "# Inicio do Dataset.\n",
        "\n",
        "inclusao.head(10)"
      ]
    },
    {
      "cell_type": "code",
      "execution_count": null,
      "metadata": {
        "id": "ZH-H9EGTSvR2",
        "scrolled": false,
        "colab": {
          "base_uri": "https://localhost:8080/",
          "height": 563
        },
        "outputId": "e6ec9ba8-ec55-4742-a924-52759f1d7ca0"
      },
      "outputs": [
        {
          "output_type": "execute_result",
          "data": {
            "text/html": [
              "\n",
              "  <div id=\"df-f00cbdb6-ec1b-4cfa-b393-1464ec2294f9\">\n",
              "    <div class=\"colab-df-container\">\n",
              "      <div>\n",
              "<style scoped>\n",
              "    .dataframe tbody tr th:only-of-type {\n",
              "        vertical-align: middle;\n",
              "    }\n",
              "\n",
              "    .dataframe tbody tr th {\n",
              "        vertical-align: top;\n",
              "    }\n",
              "\n",
              "    .dataframe thead th {\n",
              "        text-align: right;\n",
              "    }\n",
              "</style>\n",
              "<table border=\"1\" class=\"dataframe\">\n",
              "  <thead>\n",
              "    <tr style=\"text-align: right;\">\n",
              "      <th></th>\n",
              "      <th>ANO</th>\n",
              "      <th>Região</th>\n",
              "      <th>UF</th>\n",
              "      <th>CPU</th>\n",
              "      <th>NOTE</th>\n",
              "      <th>MONITOR</th>\n",
              "      <th>IMPRESS</th>\n",
              "      <th>SEXO</th>\n",
              "      <th>CURSO_JOV</th>\n",
              "      <th>CATEGORIA</th>\n",
              "      <th>CARGA_HORAS</th>\n",
              "    </tr>\n",
              "  </thead>\n",
              "  <tbody>\n",
              "    <tr>\n",
              "      <th>12170</th>\n",
              "      <td>2017</td>\n",
              "      <td>Nordeste</td>\n",
              "      <td>PE</td>\n",
              "      <td>8.0</td>\n",
              "      <td>4.0</td>\n",
              "      <td>16.0</td>\n",
              "      <td>10.0</td>\n",
              "      <td>MAS</td>\n",
              "      <td>INF. BÁSICA - MONTAGEM E MANUTENÇÃO DE COMP. -...</td>\n",
              "      <td>MANUTENÇÃO E RECONDICIONAMENTO</td>\n",
              "      <td>70.0</td>\n",
              "    </tr>\n",
              "    <tr>\n",
              "      <th>12171</th>\n",
              "      <td>2017</td>\n",
              "      <td>Nordeste</td>\n",
              "      <td>PE</td>\n",
              "      <td>1.0</td>\n",
              "      <td>0.0</td>\n",
              "      <td>0.0</td>\n",
              "      <td>4.0</td>\n",
              "      <td>MAS</td>\n",
              "      <td>INF. BÁSICA - MONTAGEM E MANUTENÇÃO DE COMP. -...</td>\n",
              "      <td>MANUTENÇÃO E RECONDICIONAMENTO</td>\n",
              "      <td>70.0</td>\n",
              "    </tr>\n",
              "    <tr>\n",
              "      <th>12172</th>\n",
              "      <td>2017</td>\n",
              "      <td>Nordeste</td>\n",
              "      <td>AL</td>\n",
              "      <td>33.0</td>\n",
              "      <td>11.0</td>\n",
              "      <td>9.0</td>\n",
              "      <td>0.0</td>\n",
              "      <td>MAS</td>\n",
              "      <td>INF. BÁSICA - MONTAGEM E MANUTENÇÃO DE COMP. -...</td>\n",
              "      <td>MANUTENÇÃO E RECONDICIONAMENTO</td>\n",
              "      <td>70.0</td>\n",
              "    </tr>\n",
              "    <tr>\n",
              "      <th>12173</th>\n",
              "      <td>2017</td>\n",
              "      <td>Nordeste</td>\n",
              "      <td>AL</td>\n",
              "      <td>7.0</td>\n",
              "      <td>0.0</td>\n",
              "      <td>8.0</td>\n",
              "      <td>2.0</td>\n",
              "      <td>MAS</td>\n",
              "      <td>INF. BÁSICA - MONTAGEM E MANUTENÇÃO DE COMP. -...</td>\n",
              "      <td>MANUTENÇÃO E RECONDICIONAMENTO</td>\n",
              "      <td>70.0</td>\n",
              "    </tr>\n",
              "    <tr>\n",
              "      <th>12174</th>\n",
              "      <td>2017</td>\n",
              "      <td>Norte</td>\n",
              "      <td>PA</td>\n",
              "      <td>26.0</td>\n",
              "      <td>4.0</td>\n",
              "      <td>8.0</td>\n",
              "      <td>28.0</td>\n",
              "      <td>MAS</td>\n",
              "      <td>INF. BÁSICA - MONTAGEM E MANUTENÇÃO DE COMP. -...</td>\n",
              "      <td>MANUTENÇÃO E RECONDICIONAMENTO</td>\n",
              "      <td>70.0</td>\n",
              "    </tr>\n",
              "    <tr>\n",
              "      <th>12175</th>\n",
              "      <td>2017</td>\n",
              "      <td>Norte</td>\n",
              "      <td>AP</td>\n",
              "      <td>0.0</td>\n",
              "      <td>0.0</td>\n",
              "      <td>0.0</td>\n",
              "      <td>0.0</td>\n",
              "      <td>MAS</td>\n",
              "      <td>INF. BÁSICA - MONTAGEM E MANUTENÇÃO DE COMP. -...</td>\n",
              "      <td>MANUTENÇÃO E RECONDICIONAMENTO</td>\n",
              "      <td>70.0</td>\n",
              "    </tr>\n",
              "    <tr>\n",
              "      <th>12176</th>\n",
              "      <td>2017</td>\n",
              "      <td>Norte</td>\n",
              "      <td>AC</td>\n",
              "      <td>23.0</td>\n",
              "      <td>3.0</td>\n",
              "      <td>11.0</td>\n",
              "      <td>12.0</td>\n",
              "      <td>MAS</td>\n",
              "      <td>INF. BÁSICA - MONTAGEM E MANUTENÇÃO DE COMP. -...</td>\n",
              "      <td>MANUTENÇÃO E RECONDICIONAMENTO</td>\n",
              "      <td>70.0</td>\n",
              "    </tr>\n",
              "    <tr>\n",
              "      <th>12177</th>\n",
              "      <td>2017</td>\n",
              "      <td>Centro-Oeste</td>\n",
              "      <td>DF</td>\n",
              "      <td>325.0</td>\n",
              "      <td>128.0</td>\n",
              "      <td>221.0</td>\n",
              "      <td>65.0</td>\n",
              "      <td>MAS</td>\n",
              "      <td>INF. BÁSICA - MONTAGEM E MANUTENÇÃO DE COMP. -...</td>\n",
              "      <td>MANUTENÇÃO E RECONDICIONAMENTO</td>\n",
              "      <td>70.0</td>\n",
              "    </tr>\n",
              "    <tr>\n",
              "      <th>12178</th>\n",
              "      <td>2017</td>\n",
              "      <td>Centro-Oeste</td>\n",
              "      <td>DF</td>\n",
              "      <td>6.0</td>\n",
              "      <td>0.0</td>\n",
              "      <td>2.0</td>\n",
              "      <td>7.0</td>\n",
              "      <td>MAS</td>\n",
              "      <td>INF. BÁSICA - MONTAGEM E MANUTENÇÃO DE COMP. -...</td>\n",
              "      <td>MANUTENÇÃO E RECONDICIONAMENTO</td>\n",
              "      <td>70.0</td>\n",
              "    </tr>\n",
              "    <tr>\n",
              "      <th>12179</th>\n",
              "      <td>201</td>\n",
              "      <td>None</td>\n",
              "      <td>None</td>\n",
              "      <td>NaN</td>\n",
              "      <td>NaN</td>\n",
              "      <td>NaN</td>\n",
              "      <td>NaN</td>\n",
              "      <td>None</td>\n",
              "      <td>None</td>\n",
              "      <td>None</td>\n",
              "      <td>NaN</td>\n",
              "    </tr>\n",
              "  </tbody>\n",
              "</table>\n",
              "</div>\n",
              "      <button class=\"colab-df-convert\" onclick=\"convertToInteractive('df-f00cbdb6-ec1b-4cfa-b393-1464ec2294f9')\"\n",
              "              title=\"Convert this dataframe to an interactive table.\"\n",
              "              style=\"display:none;\">\n",
              "        \n",
              "  <svg xmlns=\"http://www.w3.org/2000/svg\" height=\"24px\"viewBox=\"0 0 24 24\"\n",
              "       width=\"24px\">\n",
              "    <path d=\"M0 0h24v24H0V0z\" fill=\"none\"/>\n",
              "    <path d=\"M18.56 5.44l.94 2.06.94-2.06 2.06-.94-2.06-.94-.94-2.06-.94 2.06-2.06.94zm-11 1L8.5 8.5l.94-2.06 2.06-.94-2.06-.94L8.5 2.5l-.94 2.06-2.06.94zm10 10l.94 2.06.94-2.06 2.06-.94-2.06-.94-.94-2.06-.94 2.06-2.06.94z\"/><path d=\"M17.41 7.96l-1.37-1.37c-.4-.4-.92-.59-1.43-.59-.52 0-1.04.2-1.43.59L10.3 9.45l-7.72 7.72c-.78.78-.78 2.05 0 2.83L4 21.41c.39.39.9.59 1.41.59.51 0 1.02-.2 1.41-.59l7.78-7.78 2.81-2.81c.8-.78.8-2.07 0-2.86zM5.41 20L4 18.59l7.72-7.72 1.47 1.35L5.41 20z\"/>\n",
              "  </svg>\n",
              "      </button>\n",
              "      \n",
              "  <style>\n",
              "    .colab-df-container {\n",
              "      display:flex;\n",
              "      flex-wrap:wrap;\n",
              "      gap: 12px;\n",
              "    }\n",
              "\n",
              "    .colab-df-convert {\n",
              "      background-color: #E8F0FE;\n",
              "      border: none;\n",
              "      border-radius: 50%;\n",
              "      cursor: pointer;\n",
              "      display: none;\n",
              "      fill: #1967D2;\n",
              "      height: 32px;\n",
              "      padding: 0 0 0 0;\n",
              "      width: 32px;\n",
              "    }\n",
              "\n",
              "    .colab-df-convert:hover {\n",
              "      background-color: #E2EBFA;\n",
              "      box-shadow: 0px 1px 2px rgba(60, 64, 67, 0.3), 0px 1px 3px 1px rgba(60, 64, 67, 0.15);\n",
              "      fill: #174EA6;\n",
              "    }\n",
              "\n",
              "    [theme=dark] .colab-df-convert {\n",
              "      background-color: #3B4455;\n",
              "      fill: #D2E3FC;\n",
              "    }\n",
              "\n",
              "    [theme=dark] .colab-df-convert:hover {\n",
              "      background-color: #434B5C;\n",
              "      box-shadow: 0px 1px 3px 1px rgba(0, 0, 0, 0.15);\n",
              "      filter: drop-shadow(0px 1px 2px rgba(0, 0, 0, 0.3));\n",
              "      fill: #FFFFFF;\n",
              "    }\n",
              "  </style>\n",
              "\n",
              "      <script>\n",
              "        const buttonEl =\n",
              "          document.querySelector('#df-f00cbdb6-ec1b-4cfa-b393-1464ec2294f9 button.colab-df-convert');\n",
              "        buttonEl.style.display =\n",
              "          google.colab.kernel.accessAllowed ? 'block' : 'none';\n",
              "\n",
              "        async function convertToInteractive(key) {\n",
              "          const element = document.querySelector('#df-f00cbdb6-ec1b-4cfa-b393-1464ec2294f9');\n",
              "          const dataTable =\n",
              "            await google.colab.kernel.invokeFunction('convertToInteractive',\n",
              "                                                     [key], {});\n",
              "          if (!dataTable) return;\n",
              "\n",
              "          const docLinkHtml = 'Like what you see? Visit the ' +\n",
              "            '<a target=\"_blank\" href=https://colab.research.google.com/notebooks/data_table.ipynb>data table notebook</a>'\n",
              "            + ' to learn more about interactive tables.';\n",
              "          element.innerHTML = '';\n",
              "          dataTable['output_type'] = 'display_data';\n",
              "          await google.colab.output.renderOutput(dataTable, element);\n",
              "          const docLink = document.createElement('div');\n",
              "          docLink.innerHTML = docLinkHtml;\n",
              "          element.appendChild(docLink);\n",
              "        }\n",
              "      </script>\n",
              "    </div>\n",
              "  </div>\n",
              "  "
            ],
            "text/plain": [
              "        ANO        Região  ...                       CATEGORIA  CARGA_HORAS\n",
              "12170  2017      Nordeste  ...  MANUTENÇÃO E RECONDICIONAMENTO         70.0\n",
              "12171  2017      Nordeste  ...  MANUTENÇÃO E RECONDICIONAMENTO         70.0\n",
              "12172  2017      Nordeste  ...  MANUTENÇÃO E RECONDICIONAMENTO         70.0\n",
              "12173  2017      Nordeste  ...  MANUTENÇÃO E RECONDICIONAMENTO         70.0\n",
              "12174  2017         Norte  ...  MANUTENÇÃO E RECONDICIONAMENTO         70.0\n",
              "12175  2017         Norte  ...  MANUTENÇÃO E RECONDICIONAMENTO         70.0\n",
              "12176  2017         Norte  ...  MANUTENÇÃO E RECONDICIONAMENTO         70.0\n",
              "12177  2017  Centro-Oeste  ...  MANUTENÇÃO E RECONDICIONAMENTO         70.0\n",
              "12178  2017  Centro-Oeste  ...  MANUTENÇÃO E RECONDICIONAMENTO         70.0\n",
              "12179   201          None  ...                            None          NaN\n",
              "\n",
              "[10 rows x 11 columns]"
            ]
          },
          "metadata": {},
          "execution_count": 4
        }
      ],
      "source": [
        "# Final do Dataset.\n",
        "\n",
        "inclusao.tail(10)"
      ]
    },
    {
      "cell_type": "markdown",
      "metadata": {
        "id": "cowCG2hWSvR3"
      },
      "source": [
        "# Preparação dos dados.\n",
        "\n",
        "Apresentado a análise dos dados do dataset, que embasará a conclusão do estudo."
      ]
    },
    {
      "cell_type": "code",
      "execution_count": null,
      "metadata": {
        "id": "u46MyDZgSvR4"
      },
      "outputs": [],
      "source": [
        "# Organização das colunas.\n",
        "\n",
        "colunas = ['ANO', 'Região', 'UF', 'CPU', 'NOTE', 'MONITOR', 'IMPRESS', 'CURSO_JOV', 'CATEGORIA', 'CARGA_HORAS', 'SEXO']\n",
        "inclusao = inclusao[colunas]"
      ]
    },
    {
      "cell_type": "code",
      "execution_count": null,
      "metadata": {
        "id": "odcRRxvUSvR5"
      },
      "outputs": [],
      "source": [
        "inclusao = inclusao.rename(columns = {'Região': 'REGIAO'})"
      ]
    },
    {
      "cell_type": "code",
      "execution_count": null,
      "metadata": {
        "id": "LVqkm2p9SvR5",
        "scrolled": true,
        "colab": {
          "base_uri": "https://localhost:8080/",
          "height": 337
        },
        "outputId": "56ad191e-4f5f-4e34-ee5d-4285d39018b6"
      },
      "outputs": [
        {
          "output_type": "execute_result",
          "data": {
            "text/html": [
              "\n",
              "  <div id=\"df-e21fc343-4105-49ff-9ffd-705788935fd5\">\n",
              "    <div class=\"colab-df-container\">\n",
              "      <div>\n",
              "<style scoped>\n",
              "    .dataframe tbody tr th:only-of-type {\n",
              "        vertical-align: middle;\n",
              "    }\n",
              "\n",
              "    .dataframe tbody tr th {\n",
              "        vertical-align: top;\n",
              "    }\n",
              "\n",
              "    .dataframe thead th {\n",
              "        text-align: right;\n",
              "    }\n",
              "</style>\n",
              "<table border=\"1\" class=\"dataframe\">\n",
              "  <thead>\n",
              "    <tr style=\"text-align: right;\">\n",
              "      <th></th>\n",
              "      <th>ANO</th>\n",
              "      <th>REGIAO</th>\n",
              "      <th>UF</th>\n",
              "      <th>CPU</th>\n",
              "      <th>NOTE</th>\n",
              "      <th>MONITOR</th>\n",
              "      <th>IMPRESS</th>\n",
              "      <th>CURSO_JOV</th>\n",
              "      <th>CATEGORIA</th>\n",
              "      <th>CARGA_HORAS</th>\n",
              "      <th>SEXO</th>\n",
              "    </tr>\n",
              "  </thead>\n",
              "  <tbody>\n",
              "    <tr>\n",
              "      <th>0</th>\n",
              "      <td>2018</td>\n",
              "      <td>Sudeste</td>\n",
              "      <td>SP</td>\n",
              "      <td>14.0</td>\n",
              "      <td>0.0</td>\n",
              "      <td>5.0</td>\n",
              "      <td>8.0</td>\n",
              "      <td>INF. BÁSICA - MONTAGEM E MANUTENÇÃO DE COMP. -...</td>\n",
              "      <td>MANUTENÇÃO E RECONDICIONAMENTO</td>\n",
              "      <td>70.0</td>\n",
              "      <td>MAS</td>\n",
              "    </tr>\n",
              "    <tr>\n",
              "      <th>1</th>\n",
              "      <td>2018</td>\n",
              "      <td>Centro-Oeste</td>\n",
              "      <td>MS</td>\n",
              "      <td>25.0</td>\n",
              "      <td>2.0</td>\n",
              "      <td>1.0</td>\n",
              "      <td>6.0</td>\n",
              "      <td>INF. BÁSICA - MONTAGEM E MANUTENÇÃO DE COMP. -...</td>\n",
              "      <td>MANUTENÇÃO E RECONDICIONAMENTO</td>\n",
              "      <td>70.0</td>\n",
              "      <td>MAS</td>\n",
              "    </tr>\n",
              "    <tr>\n",
              "      <th>2</th>\n",
              "      <td>2018</td>\n",
              "      <td>Sudeste</td>\n",
              "      <td>SP</td>\n",
              "      <td>10.0</td>\n",
              "      <td>4.0</td>\n",
              "      <td>5.0</td>\n",
              "      <td>8.0</td>\n",
              "      <td>INF. BÁSICA - MONTAGEM E MANUTENÇÃO DE COMP. -...</td>\n",
              "      <td>MANUTENÇÃO E RECONDICIONAMENTO</td>\n",
              "      <td>70.0</td>\n",
              "      <td>MAS</td>\n",
              "    </tr>\n",
              "    <tr>\n",
              "      <th>3</th>\n",
              "      <td>2018</td>\n",
              "      <td>Centro-Oeste</td>\n",
              "      <td>DF</td>\n",
              "      <td>36.0</td>\n",
              "      <td>11.0</td>\n",
              "      <td>80.0</td>\n",
              "      <td>3.0</td>\n",
              "      <td>INF. BÁSICA - MONTAGEM E MANUTENÇÃO DE COMP. -...</td>\n",
              "      <td>MANUTENÇÃO E RECONDICIONAMENTO</td>\n",
              "      <td>70.0</td>\n",
              "      <td>MAS</td>\n",
              "    </tr>\n",
              "    <tr>\n",
              "      <th>4</th>\n",
              "      <td>2018</td>\n",
              "      <td>Centro-Oeste</td>\n",
              "      <td>DF</td>\n",
              "      <td>36.0</td>\n",
              "      <td>11.0</td>\n",
              "      <td>80.0</td>\n",
              "      <td>3.0</td>\n",
              "      <td>INF. BÁSICA - MONTAGEM E MANUTENÇÃO DE COMP. -...</td>\n",
              "      <td>MANUTENÇÃO E RECONDICIONAMENTO</td>\n",
              "      <td>70.0</td>\n",
              "      <td>MAS</td>\n",
              "    </tr>\n",
              "  </tbody>\n",
              "</table>\n",
              "</div>\n",
              "      <button class=\"colab-df-convert\" onclick=\"convertToInteractive('df-e21fc343-4105-49ff-9ffd-705788935fd5')\"\n",
              "              title=\"Convert this dataframe to an interactive table.\"\n",
              "              style=\"display:none;\">\n",
              "        \n",
              "  <svg xmlns=\"http://www.w3.org/2000/svg\" height=\"24px\"viewBox=\"0 0 24 24\"\n",
              "       width=\"24px\">\n",
              "    <path d=\"M0 0h24v24H0V0z\" fill=\"none\"/>\n",
              "    <path d=\"M18.56 5.44l.94 2.06.94-2.06 2.06-.94-2.06-.94-.94-2.06-.94 2.06-2.06.94zm-11 1L8.5 8.5l.94-2.06 2.06-.94-2.06-.94L8.5 2.5l-.94 2.06-2.06.94zm10 10l.94 2.06.94-2.06 2.06-.94-2.06-.94-.94-2.06-.94 2.06-2.06.94z\"/><path d=\"M17.41 7.96l-1.37-1.37c-.4-.4-.92-.59-1.43-.59-.52 0-1.04.2-1.43.59L10.3 9.45l-7.72 7.72c-.78.78-.78 2.05 0 2.83L4 21.41c.39.39.9.59 1.41.59.51 0 1.02-.2 1.41-.59l7.78-7.78 2.81-2.81c.8-.78.8-2.07 0-2.86zM5.41 20L4 18.59l7.72-7.72 1.47 1.35L5.41 20z\"/>\n",
              "  </svg>\n",
              "      </button>\n",
              "      \n",
              "  <style>\n",
              "    .colab-df-container {\n",
              "      display:flex;\n",
              "      flex-wrap:wrap;\n",
              "      gap: 12px;\n",
              "    }\n",
              "\n",
              "    .colab-df-convert {\n",
              "      background-color: #E8F0FE;\n",
              "      border: none;\n",
              "      border-radius: 50%;\n",
              "      cursor: pointer;\n",
              "      display: none;\n",
              "      fill: #1967D2;\n",
              "      height: 32px;\n",
              "      padding: 0 0 0 0;\n",
              "      width: 32px;\n",
              "    }\n",
              "\n",
              "    .colab-df-convert:hover {\n",
              "      background-color: #E2EBFA;\n",
              "      box-shadow: 0px 1px 2px rgba(60, 64, 67, 0.3), 0px 1px 3px 1px rgba(60, 64, 67, 0.15);\n",
              "      fill: #174EA6;\n",
              "    }\n",
              "\n",
              "    [theme=dark] .colab-df-convert {\n",
              "      background-color: #3B4455;\n",
              "      fill: #D2E3FC;\n",
              "    }\n",
              "\n",
              "    [theme=dark] .colab-df-convert:hover {\n",
              "      background-color: #434B5C;\n",
              "      box-shadow: 0px 1px 3px 1px rgba(0, 0, 0, 0.15);\n",
              "      filter: drop-shadow(0px 1px 2px rgba(0, 0, 0, 0.3));\n",
              "      fill: #FFFFFF;\n",
              "    }\n",
              "  </style>\n",
              "\n",
              "      <script>\n",
              "        const buttonEl =\n",
              "          document.querySelector('#df-e21fc343-4105-49ff-9ffd-705788935fd5 button.colab-df-convert');\n",
              "        buttonEl.style.display =\n",
              "          google.colab.kernel.accessAllowed ? 'block' : 'none';\n",
              "\n",
              "        async function convertToInteractive(key) {\n",
              "          const element = document.querySelector('#df-e21fc343-4105-49ff-9ffd-705788935fd5');\n",
              "          const dataTable =\n",
              "            await google.colab.kernel.invokeFunction('convertToInteractive',\n",
              "                                                     [key], {});\n",
              "          if (!dataTable) return;\n",
              "\n",
              "          const docLinkHtml = 'Like what you see? Visit the ' +\n",
              "            '<a target=\"_blank\" href=https://colab.research.google.com/notebooks/data_table.ipynb>data table notebook</a>'\n",
              "            + ' to learn more about interactive tables.';\n",
              "          element.innerHTML = '';\n",
              "          dataTable['output_type'] = 'display_data';\n",
              "          await google.colab.output.renderOutput(dataTable, element);\n",
              "          const docLink = document.createElement('div');\n",
              "          docLink.innerHTML = docLinkHtml;\n",
              "          element.appendChild(docLink);\n",
              "        }\n",
              "      </script>\n",
              "    </div>\n",
              "  </div>\n",
              "  "
            ],
            "text/plain": [
              "    ANO        REGIAO  UF  ...                       CATEGORIA  CARGA_HORAS  SEXO\n",
              "0  2018       Sudeste  SP  ...  MANUTENÇÃO E RECONDICIONAMENTO         70.0   MAS\n",
              "1  2018  Centro-Oeste  MS  ...  MANUTENÇÃO E RECONDICIONAMENTO         70.0   MAS\n",
              "2  2018       Sudeste  SP  ...  MANUTENÇÃO E RECONDICIONAMENTO         70.0   MAS\n",
              "3  2018  Centro-Oeste  DF  ...  MANUTENÇÃO E RECONDICIONAMENTO         70.0   MAS\n",
              "4  2018  Centro-Oeste  DF  ...  MANUTENÇÃO E RECONDICIONAMENTO         70.0   MAS\n",
              "\n",
              "[5 rows x 11 columns]"
            ]
          },
          "metadata": {},
          "execution_count": 7
        }
      ],
      "source": [
        "inclusao.head(5)"
      ]
    },
    {
      "cell_type": "markdown",
      "metadata": {
        "id": "qxN5hBFnSvR8"
      },
      "source": [
        "## Algum atributo possue valores ausentes."
      ]
    },
    {
      "cell_type": "code",
      "execution_count": null,
      "metadata": {
        "id": "BUwbtWrESvR8",
        "colab": {
          "base_uri": "https://localhost:8080/"
        },
        "outputId": "a4f580ae-9929-45f7-d913-45d20e228f5b"
      },
      "outputs": [
        {
          "output_type": "execute_result",
          "data": {
            "text/plain": [
              "MONITOR        0.000903\n",
              "NOTE           0.000657\n",
              "IMPRESS        0.000328\n",
              "REGIAO         0.000082\n",
              "UF             0.000082\n",
              "CPU            0.000082\n",
              "CURSO_JOV      0.000082\n",
              "CATEGORIA      0.000082\n",
              "CARGA_HORAS    0.000082\n",
              "SEXO           0.000082\n",
              "ANO            0.000000\n",
              "dtype: float64"
            ]
          },
          "metadata": {},
          "execution_count": 9
        }
      ],
      "source": [
        "#Verificando valores ausentes do df (isnull().sum()).\n",
        "\n",
        "(inclusao.isnull().sum()/inclusao.shape[0]).sort_values(ascending=False)"
      ]
    },
    {
      "cell_type": "code",
      "execution_count": null,
      "metadata": {
        "id": "qKDZAxhlSvR9"
      },
      "outputs": [],
      "source": [
        "#Excluindo valores ausentes ('dropna').\n",
        "\n",
        "inclusao.dropna(inplace=True)"
      ]
    },
    {
      "cell_type": "code",
      "execution_count": null,
      "metadata": {
        "id": "zkt3xWghSvR9",
        "colab": {
          "base_uri": "https://localhost:8080/"
        },
        "outputId": "e727b395-a19c-4adb-cb9b-b6811c87b31d"
      },
      "outputs": [
        {
          "output_type": "execute_result",
          "data": {
            "text/plain": [
              "ANO            0.0\n",
              "REGIAO         0.0\n",
              "UF             0.0\n",
              "CPU            0.0\n",
              "NOTE           0.0\n",
              "MONITOR        0.0\n",
              "IMPRESS        0.0\n",
              "CURSO_JOV      0.0\n",
              "CATEGORIA      0.0\n",
              "CARGA_HORAS    0.0\n",
              "SEXO           0.0\n",
              "dtype: float64"
            ]
          },
          "metadata": {},
          "execution_count": 11
        }
      ],
      "source": [
        "#Verificando valores ausentes do df (isnull().sum()).\n",
        "\n",
        "(inclusao.isnull().sum()/inclusao.shape[0]).sort_values(ascending=False)"
      ]
    },
    {
      "cell_type": "code",
      "execution_count": null,
      "metadata": {
        "id": "iQ4SMlURSvR-",
        "colab": {
          "base_uri": "https://localhost:8080/",
          "height": 454
        },
        "outputId": "81e3d9be-62eb-4dab-aade-56617d786352"
      },
      "outputs": [
        {
          "output_type": "display_data",
          "data": {
            "image/png": "[encoded data removed]",
            "text/plain": [
              "<Figure size 576x432 with 2 Axes>"
            ]
          },
          "metadata": {
            "needs_background": "light"
          }
        }
      ],
      "source": [
        "# Represetanção Gráfica sem valores NAN ou Nulos.\n",
        "\n",
        "plt.figure(figsize=(8,6));\n",
        "sns.heatmap(inclusao.isnull());"
      ]
    },
    {
      "cell_type": "markdown",
      "metadata": {
        "id": "1N2HCdf5SvR-"
      },
      "source": [
        "### Agora os atributos não tem mais valores ausentes."
      ]
    },
    {
      "cell_type": "markdown",
      "metadata": {
        "id": "Ew5Cjy30SvSB"
      },
      "source": [
        "# AED - Análise exploratória dos Dados dos Centros de Recondicionamento de Computadores - CRCs."
      ]
    },
    {
      "cell_type": "code",
      "execution_count": null,
      "metadata": {
        "id": "Fa7dElGcSvSB",
        "colab": {
          "base_uri": "https://localhost:8080/"
        },
        "outputId": "2764e7f9-d2d2-4d11-a542-b7c157f107e3"
      },
      "outputs": [
        {
          "output_type": "stream",
          "name": "stdout",
          "text": [
            "Os Estados contemplados são: ['SP' 'MS' 'DF' 'AC' 'RJ' 'CE' 'RS' 'BA' 'PR' 'RN' 'MG' 'PA' 'SE' 'SC'\n",
            " 'GO' 'MA' 'TO' 'PE' 'PI' 'ES' 'PB' 'RO' 'MT' 'AL' 'AM' 'AP' 'RR']\n"
          ]
        }
      ],
      "source": [
        "# Mostrar os Estados contemplados.\n",
        "\n",
        "print(f'Os Estados contemplados são: {inclusao.UF.unique()}')"
      ]
    },
    {
      "cell_type": "code",
      "execution_count": null,
      "metadata": {
        "id": "Q-QNYjq7SvSC",
        "colab": {
          "base_uri": "https://localhost:8080/"
        },
        "outputId": "33b997da-8afd-4455-ef5d-70b5053b8ea4"
      },
      "outputs": [
        {
          "output_type": "stream",
          "name": "stdout",
          "text": [
            "Ao total foram: 27 Estados Contemplados\n"
          ]
        }
      ],
      "source": [
        "# Total de Estados Contemplados.\n",
        "\n",
        "print(f'Ao total foram: {len(inclusao.UF.unique())} Estados Contemplados')"
      ]
    },
    {
      "cell_type": "markdown",
      "metadata": {
        "id": "1Hw4L6NfSvSC"
      },
      "source": [
        "# Quais Estados foram Agrupados."
      ]
    },
    {
      "cell_type": "code",
      "execution_count": null,
      "metadata": {
        "id": "s7o8xrUkSvSC",
        "scrolled": false
      },
      "outputs": [],
      "source": [
        "# Os Estados foram agrupados.\n",
        "\n",
        "inclusao.groupby('UF')[['CPU', 'NOTE', 'MONITOR', 'IMPRESS']].max().sort_values(by=['CPU', 'NOTE', 'MONITOR', 'IMPRESS'], ascending = False)[:20]"
      ]
    },
    {
      "cell_type": "code",
      "execution_count": null,
      "metadata": {
        "id": "BKu7LuHPSvSD",
        "colab": {
          "base_uri": "https://localhost:8080/",
          "height": 441
        },
        "outputId": "70483e6c-5292-4f8b-d574-dc7c75772e22"
      },
      "outputs": [
        {
          "output_type": "display_data",
          "data": {
            "image/png": "[encoded data removed]",
            "text/plain": [
              "<Figure size 1080x432 with 1 Axes>"
            ]
          },
          "metadata": {
            "needs_background": "light"
          }
        }
      ],
      "source": [
        "# Gráfico de barra dos Equipamentos por Estados.\n",
        "\n",
        "casos = (inclusao.groupby('UF')[['CPU', 'NOTE', 'MONITOR', 'IMPRESS']].nunique().sort_values(by=['CPU', 'NOTE', 'MONITOR', 'IMPRESS'], ascending = False))[:15]\n",
        "fig, ax = plt.subplots(figsize=(15,6))\n",
        "\n",
        "casos.plot(kind='bar', ax=ax)\n",
        "ax.set_title('Nº Equipamentos - Doações')\n",
        "ax.set_ylabel('Quantidade')\n",
        "ax.set_xlabel('Nome dos Estados')\n",
        "plt.tight_layout()"
      ]
    },
    {
      "cell_type": "markdown",
      "metadata": {
        "id": "cxTti0rNSvSD"
      },
      "source": [
        "### O Distrito Federal aparece com maior contemplação no Brasil, em seguida está o estado de Minas Gerais e em terceiro o estado de São Paulo.\n",
        "\n",
        "### O Estado de Amazônas tem o menor recebimento de equipamentos."
      ]
    },
    {
      "cell_type": "markdown",
      "metadata": {
        "id": "LXGLswbfSvSD"
      },
      "source": [
        "# Evolução das Doações."
      ]
    },
    {
      "cell_type": "code",
      "execution_count": null,
      "metadata": {
        "id": "jb5cJwocSvSD",
        "colab": {
          "base_uri": "https://localhost:8080/",
          "height": 369
        },
        "outputId": "598e53d6-a02f-44eb-9e30-acb0368453c2"
      },
      "outputs": [
        {
          "output_type": "display_data",
          "data": {
            "image/png": "[encoded data removed]",
            "text/plain": [
              "<Figure size 1080x360 with 1 Axes>"
            ]
          },
          "metadata": {
            "needs_background": "light"
          }
        }
      ],
      "source": [
        "# Evolução das doações por Estados.\n",
        "\n",
        "evoluçao = inclusao.groupby('ANO')[['CPU', 'NOTE', 'MONITOR', 'IMPRESS']].max()\n",
        "\n",
        "fig, ax = plt.subplots(figsize = (15,5))\n",
        "\n",
        "evoluçao.plot(kind='line', marker='o', ax=ax)\n",
        "ax.set_title('Evolução por Estados')\n",
        "ax.set_xlabel('Ano')\n",
        "ax.set_ylabel('Quantidade de Doações')\n",
        "plt.tight_layout()"
      ]
    },
    {
      "cell_type": "markdown",
      "metadata": {
        "id": "WQiXMEJC2bD-"
      },
      "source": [
        "### É possivel observar que nos anos de 2016 a 2019, houve um crescimento de doações.\n",
        "\n",
        "### Porém, o numero de \"Notes\", veio sofrendo uma queda de 2017 até 2019."
      ]
    },
    {
      "cell_type": "code",
      "execution_count": null,
      "metadata": {
        "id": "9o-yUSYsSvSE",
        "colab": {
          "base_uri": "https://localhost:8080/",
          "height": 337
        },
        "outputId": "122d3142-e874-48a5-af71-88af9d01ebf0"
      },
      "outputs": [
        {
          "output_type": "execute_result",
          "data": {
            "text/html": [
              "\n",
              "  <div id=\"df-24e0d48c-f697-4322-9713-42be2201d6eb\">\n",
              "    <div class=\"colab-df-container\">\n",
              "      <div>\n",
              "<style scoped>\n",
              "    .dataframe tbody tr th:only-of-type {\n",
              "        vertical-align: middle;\n",
              "    }\n",
              "\n",
              "    .dataframe tbody tr th {\n",
              "        vertical-align: top;\n",
              "    }\n",
              "\n",
              "    .dataframe thead th {\n",
              "        text-align: right;\n",
              "    }\n",
              "</style>\n",
              "<table border=\"1\" class=\"dataframe\">\n",
              "  <thead>\n",
              "    <tr style=\"text-align: right;\">\n",
              "      <th></th>\n",
              "      <th>ANO</th>\n",
              "      <th>REGIAO</th>\n",
              "      <th>UF</th>\n",
              "      <th>CPU</th>\n",
              "      <th>NOTE</th>\n",
              "      <th>MONITOR</th>\n",
              "      <th>IMPRESS</th>\n",
              "      <th>CURSO_JOV</th>\n",
              "      <th>CATEGORIA</th>\n",
              "      <th>CARGA_HORAS</th>\n",
              "      <th>SEXO</th>\n",
              "    </tr>\n",
              "  </thead>\n",
              "  <tbody>\n",
              "    <tr>\n",
              "      <th>3</th>\n",
              "      <td>2018</td>\n",
              "      <td>Centro-Oeste</td>\n",
              "      <td>DF</td>\n",
              "      <td>36.0</td>\n",
              "      <td>11.0</td>\n",
              "      <td>80.0</td>\n",
              "      <td>3.0</td>\n",
              "      <td>INF. BÁSICA - MONTAGEM E MANUTENÇÃO DE COMP. -...</td>\n",
              "      <td>MANUTENÇÃO E RECONDICIONAMENTO</td>\n",
              "      <td>70.0</td>\n",
              "      <td>MAS</td>\n",
              "    </tr>\n",
              "    <tr>\n",
              "      <th>4</th>\n",
              "      <td>2018</td>\n",
              "      <td>Centro-Oeste</td>\n",
              "      <td>DF</td>\n",
              "      <td>36.0</td>\n",
              "      <td>11.0</td>\n",
              "      <td>80.0</td>\n",
              "      <td>3.0</td>\n",
              "      <td>INF. BÁSICA - MONTAGEM E MANUTENÇÃO DE COMP. -...</td>\n",
              "      <td>MANUTENÇÃO E RECONDICIONAMENTO</td>\n",
              "      <td>70.0</td>\n",
              "      <td>MAS</td>\n",
              "    </tr>\n",
              "    <tr>\n",
              "      <th>5</th>\n",
              "      <td>2018</td>\n",
              "      <td>Centro-Oeste</td>\n",
              "      <td>DF</td>\n",
              "      <td>0.0</td>\n",
              "      <td>0.0</td>\n",
              "      <td>0.0</td>\n",
              "      <td>0.0</td>\n",
              "      <td>INF. BÁSICA - MONTAGEM E MANUTENÇÃO DE COMP. -...</td>\n",
              "      <td>MANUTENÇÃO E RECONDICIONAMENTO</td>\n",
              "      <td>70.0</td>\n",
              "      <td>MAS</td>\n",
              "    </tr>\n",
              "    <tr>\n",
              "      <th>6</th>\n",
              "      <td>2018</td>\n",
              "      <td>Centro-Oeste</td>\n",
              "      <td>DF</td>\n",
              "      <td>30.0</td>\n",
              "      <td>2.0</td>\n",
              "      <td>39.0</td>\n",
              "      <td>0.0</td>\n",
              "      <td>INF. BÁSICA - MONTAGEM E MANUTENÇÃO DE COMP. -...</td>\n",
              "      <td>MANUTENÇÃO E RECONDICIONAMENTO</td>\n",
              "      <td>70.0</td>\n",
              "      <td>MAS</td>\n",
              "    </tr>\n",
              "    <tr>\n",
              "      <th>9</th>\n",
              "      <td>2018</td>\n",
              "      <td>Centro-Oeste</td>\n",
              "      <td>DF</td>\n",
              "      <td>38.0</td>\n",
              "      <td>35.0</td>\n",
              "      <td>79.0</td>\n",
              "      <td>1.0</td>\n",
              "      <td>INF. BÁSICA - MONTAGEM E MANUTENÇÃO DE COMP. -...</td>\n",
              "      <td>MANUTENÇÃO E RECONDICIONAMENTO</td>\n",
              "      <td>70.0</td>\n",
              "      <td>MAS</td>\n",
              "    </tr>\n",
              "  </tbody>\n",
              "</table>\n",
              "</div>\n",
              "      <button class=\"colab-df-convert\" onclick=\"convertToInteractive('df-24e0d48c-f697-4322-9713-42be2201d6eb')\"\n",
              "              title=\"Convert this dataframe to an interactive table.\"\n",
              "              style=\"display:none;\">\n",
              "        \n",
              "  <svg xmlns=\"http://www.w3.org/2000/svg\" height=\"24px\"viewBox=\"0 0 24 24\"\n",
              "       width=\"24px\">\n",
              "    <path d=\"M0 0h24v24H0V0z\" fill=\"none\"/>\n",
              "    <path d=\"M18.56 5.44l.94 2.06.94-2.06 2.06-.94-2.06-.94-.94-2.06-.94 2.06-2.06.94zm-11 1L8.5 8.5l.94-2.06 2.06-.94-2.06-.94L8.5 2.5l-.94 2.06-2.06.94zm10 10l.94 2.06.94-2.06 2.06-.94-2.06-.94-.94-2.06-.94 2.06-2.06.94z\"/><path d=\"M17.41 7.96l-1.37-1.37c-.4-.4-.92-.59-1.43-.59-.52 0-1.04.2-1.43.59L10.3 9.45l-7.72 7.72c-.78.78-.78 2.05 0 2.83L4 21.41c.39.39.9.59 1.41.59.51 0 1.02-.2 1.41-.59l7.78-7.78 2.81-2.81c.8-.78.8-2.07 0-2.86zM5.41 20L4 18.59l7.72-7.72 1.47 1.35L5.41 20z\"/>\n",
              "  </svg>\n",
              "      </button>\n",
              "      \n",
              "  <style>\n",
              "    .colab-df-container {\n",
              "      display:flex;\n",
              "      flex-wrap:wrap;\n",
              "      gap: 12px;\n",
              "    }\n",
              "\n",
              "    .colab-df-convert {\n",
              "      background-color: #E8F0FE;\n",
              "      border: none;\n",
              "      border-radius: 50%;\n",
              "      cursor: pointer;\n",
              "      display: none;\n",
              "      fill: #1967D2;\n",
              "      height: 32px;\n",
              "      padding: 0 0 0 0;\n",
              "      width: 32px;\n",
              "    }\n",
              "\n",
              "    .colab-df-convert:hover {\n",
              "      background-color: #E2EBFA;\n",
              "      box-shadow: 0px 1px 2px rgba(60, 64, 67, 0.3), 0px 1px 3px 1px rgba(60, 64, 67, 0.15);\n",
              "      fill: #174EA6;\n",
              "    }\n",
              "\n",
              "    [theme=dark] .colab-df-convert {\n",
              "      background-color: #3B4455;\n",
              "      fill: #D2E3FC;\n",
              "    }\n",
              "\n",
              "    [theme=dark] .colab-df-convert:hover {\n",
              "      background-color: #434B5C;\n",
              "      box-shadow: 0px 1px 3px 1px rgba(0, 0, 0, 0.15);\n",
              "      filter: drop-shadow(0px 1px 2px rgba(0, 0, 0, 0.3));\n",
              "      fill: #FFFFFF;\n",
              "    }\n",
              "  </style>\n",
              "\n",
              "      <script>\n",
              "        const buttonEl =\n",
              "          document.querySelector('#df-24e0d48c-f697-4322-9713-42be2201d6eb button.colab-df-convert');\n",
              "        buttonEl.style.display =\n",
              "          google.colab.kernel.accessAllowed ? 'block' : 'none';\n",
              "\n",
              "        async function convertToInteractive(key) {\n",
              "          const element = document.querySelector('#df-24e0d48c-f697-4322-9713-42be2201d6eb');\n",
              "          const dataTable =\n",
              "            await google.colab.kernel.invokeFunction('convertToInteractive',\n",
              "                                                     [key], {});\n",
              "          if (!dataTable) return;\n",
              "\n",
              "          const docLinkHtml = 'Like what you see? Visit the ' +\n",
              "            '<a target=\"_blank\" href=https://colab.research.google.com/notebooks/data_table.ipynb>data table notebook</a>'\n",
              "            + ' to learn more about interactive tables.';\n",
              "          element.innerHTML = '';\n",
              "          dataTable['output_type'] = 'display_data';\n",
              "          await google.colab.output.renderOutput(dataTable, element);\n",
              "          const docLink = document.createElement('div');\n",
              "          docLink.innerHTML = docLinkHtml;\n",
              "          element.appendChild(docLink);\n",
              "        }\n",
              "      </script>\n",
              "    </div>\n",
              "  </div>\n",
              "  "
            ],
            "text/plain": [
              "    ANO        REGIAO  UF  ...                       CATEGORIA  CARGA_HORAS  SEXO\n",
              "3  2018  Centro-Oeste  DF  ...  MANUTENÇÃO E RECONDICIONAMENTO         70.0   MAS\n",
              "4  2018  Centro-Oeste  DF  ...  MANUTENÇÃO E RECONDICIONAMENTO         70.0   MAS\n",
              "5  2018  Centro-Oeste  DF  ...  MANUTENÇÃO E RECONDICIONAMENTO         70.0   MAS\n",
              "6  2018  Centro-Oeste  DF  ...  MANUTENÇÃO E RECONDICIONAMENTO         70.0   MAS\n",
              "9  2018  Centro-Oeste  DF  ...  MANUTENÇÃO E RECONDICIONAMENTO         70.0   MAS\n",
              "\n",
              "[5 rows x 11 columns]"
            ]
          },
          "metadata": {},
          "execution_count": 18
        }
      ],
      "source": [
        "# Extraindo informações do Distrito Federal - DF.\n",
        "\n",
        "capital = inclusao.loc[inclusao['UF'] == 'DF']\n",
        "\n",
        "capital.head() "
      ]
    },
    {
      "cell_type": "markdown",
      "metadata": {
        "id": "JMfKt3M327Zz"
      },
      "source": [
        "# Analisando do Distrito Federal."
      ]
    },
    {
      "cell_type": "code",
      "execution_count": null,
      "metadata": {
        "id": "AotKyNf1SvSF",
        "colab": {
          "base_uri": "https://localhost:8080/",
          "height": 369
        },
        "outputId": "f51e8130-bfbd-4f7a-c90c-cc8a013c5fa2"
      },
      "outputs": [
        {
          "output_type": "display_data",
          "data": {
            "image/png": "[encoded data removed]",
            "text/plain": [
              "<Figure size 1080x360 with 1 Axes>"
            ]
          },
          "metadata": {
            "needs_background": "light"
          }
        }
      ],
      "source": [
        "# Gráfico de linhas para visualizar a evolução de doações no Distrito Federal - DF.\n",
        "\n",
        "capital = capital.groupby('ANO')[['CPU', 'NOTE', 'MONITOR', 'IMPRESS']].max()\n",
        "\n",
        "fig, ax = plt.subplots(figsize = (15,5))\n",
        "\n",
        "capital.plot(kind='line', marker='o', ax=ax)\n",
        "ax.set_title('Evolução de Doações no Distrito Federal') \n",
        "ax.set_xlabel('Ano')\n",
        "ax.set_ylabel('Quantidade de Doações')\n",
        "plt.tight_layout()"
      ]
    },
    {
      "cell_type": "markdown",
      "metadata": {
        "id": "ZMCMQZtaSvSE"
      },
      "source": [
        "### Observamos que o Distrito Febderal é o que tem uma evolução maior em doações. Por isso, vamos agora visualizar melhor a evolução da Capital do Brasil."
      ]
    },
    {
      "cell_type": "markdown",
      "metadata": {
        "id": "NwFmhr6GSvSF"
      },
      "source": [
        "# Analisando os dados de Regiões do Brasil."
      ]
    },
    {
      "cell_type": "code",
      "execution_count": null,
      "metadata": {
        "id": "XZsMO_SJSvSG",
        "colab": {
          "base_uri": "https://localhost:8080/",
          "height": 238
        },
        "outputId": "946e5c2b-5e50-4cbd-dd16-5b47a205c83d"
      },
      "outputs": [
        {
          "output_type": "execute_result",
          "data": {
            "text/html": [
              "\n",
              "  <div id=\"df-0954d47f-5328-497b-8a13-772ae8201e0c\">\n",
              "    <div class=\"colab-df-container\">\n",
              "      <div>\n",
              "<style scoped>\n",
              "    .dataframe tbody tr th:only-of-type {\n",
              "        vertical-align: middle;\n",
              "    }\n",
              "\n",
              "    .dataframe tbody tr th {\n",
              "        vertical-align: top;\n",
              "    }\n",
              "\n",
              "    .dataframe thead th {\n",
              "        text-align: right;\n",
              "    }\n",
              "</style>\n",
              "<table border=\"1\" class=\"dataframe\">\n",
              "  <thead>\n",
              "    <tr style=\"text-align: right;\">\n",
              "      <th></th>\n",
              "      <th>CPU</th>\n",
              "      <th>NOTE</th>\n",
              "      <th>MONITOR</th>\n",
              "      <th>IMPRESS</th>\n",
              "    </tr>\n",
              "    <tr>\n",
              "      <th>REGIAO</th>\n",
              "      <th></th>\n",
              "      <th></th>\n",
              "      <th></th>\n",
              "      <th></th>\n",
              "    </tr>\n",
              "  </thead>\n",
              "  <tbody>\n",
              "    <tr>\n",
              "      <th>Sudeste</th>\n",
              "      <td>2957.0</td>\n",
              "      <td>940.0</td>\n",
              "      <td>1750.0</td>\n",
              "      <td>1496.0</td>\n",
              "    </tr>\n",
              "    <tr>\n",
              "      <th>Centro-Oeste</th>\n",
              "      <td>1514.0</td>\n",
              "      <td>1044.0</td>\n",
              "      <td>1180.0</td>\n",
              "      <td>1229.0</td>\n",
              "    </tr>\n",
              "    <tr>\n",
              "      <th>Nordeste</th>\n",
              "      <td>1403.0</td>\n",
              "      <td>261.0</td>\n",
              "      <td>804.0</td>\n",
              "      <td>890.0</td>\n",
              "    </tr>\n",
              "    <tr>\n",
              "      <th>Norte</th>\n",
              "      <td>711.0</td>\n",
              "      <td>183.0</td>\n",
              "      <td>870.0</td>\n",
              "      <td>304.0</td>\n",
              "    </tr>\n",
              "    <tr>\n",
              "      <th>Sul</th>\n",
              "      <td>507.0</td>\n",
              "      <td>785.0</td>\n",
              "      <td>427.0</td>\n",
              "      <td>228.0</td>\n",
              "    </tr>\n",
              "  </tbody>\n",
              "</table>\n",
              "</div>\n",
              "      <button class=\"colab-df-convert\" onclick=\"convertToInteractive('df-0954d47f-5328-497b-8a13-772ae8201e0c')\"\n",
              "              title=\"Convert this dataframe to an interactive table.\"\n",
              "              style=\"display:none;\">\n",
              "        \n",
              "  <svg xmlns=\"http://www.w3.org/2000/svg\" height=\"24px\"viewBox=\"0 0 24 24\"\n",
              "       width=\"24px\">\n",
              "    <path d=\"M0 0h24v24H0V0z\" fill=\"none\"/>\n",
              "    <path d=\"M18.56 5.44l.94 2.06.94-2.06 2.06-.94-2.06-.94-.94-2.06-.94 2.06-2.06.94zm-11 1L8.5 8.5l.94-2.06 2.06-.94-2.06-.94L8.5 2.5l-.94 2.06-2.06.94zm10 10l.94 2.06.94-2.06 2.06-.94-2.06-.94-.94-2.06-.94 2.06-2.06.94z\"/><path d=\"M17.41 7.96l-1.37-1.37c-.4-.4-.92-.59-1.43-.59-.52 0-1.04.2-1.43.59L10.3 9.45l-7.72 7.72c-.78.78-.78 2.05 0 2.83L4 21.41c.39.39.9.59 1.41.59.51 0 1.02-.2 1.41-.59l7.78-7.78 2.81-2.81c.8-.78.8-2.07 0-2.86zM5.41 20L4 18.59l7.72-7.72 1.47 1.35L5.41 20z\"/>\n",
              "  </svg>\n",
              "      </button>\n",
              "      \n",
              "  <style>\n",
              "    .colab-df-container {\n",
              "      display:flex;\n",
              "      flex-wrap:wrap;\n",
              "      gap: 12px;\n",
              "    }\n",
              "\n",
              "    .colab-df-convert {\n",
              "      background-color: #E8F0FE;\n",
              "      border: none;\n",
              "      border-radius: 50%;\n",
              "      cursor: pointer;\n",
              "      display: none;\n",
              "      fill: #1967D2;\n",
              "      height: 32px;\n",
              "      padding: 0 0 0 0;\n",
              "      width: 32px;\n",
              "    }\n",
              "\n",
              "    .colab-df-convert:hover {\n",
              "      background-color: #E2EBFA;\n",
              "      box-shadow: 0px 1px 2px rgba(60, 64, 67, 0.3), 0px 1px 3px 1px rgba(60, 64, 67, 0.15);\n",
              "      fill: #174EA6;\n",
              "    }\n",
              "\n",
              "    [theme=dark] .colab-df-convert {\n",
              "      background-color: #3B4455;\n",
              "      fill: #D2E3FC;\n",
              "    }\n",
              "\n",
              "    [theme=dark] .colab-df-convert:hover {\n",
              "      background-color: #434B5C;\n",
              "      box-shadow: 0px 1px 3px 1px rgba(0, 0, 0, 0.15);\n",
              "      filter: drop-shadow(0px 1px 2px rgba(0, 0, 0, 0.3));\n",
              "      fill: #FFFFFF;\n",
              "    }\n",
              "  </style>\n",
              "\n",
              "      <script>\n",
              "        const buttonEl =\n",
              "          document.querySelector('#df-0954d47f-5328-497b-8a13-772ae8201e0c button.colab-df-convert');\n",
              "        buttonEl.style.display =\n",
              "          google.colab.kernel.accessAllowed ? 'block' : 'none';\n",
              "\n",
              "        async function convertToInteractive(key) {\n",
              "          const element = document.querySelector('#df-0954d47f-5328-497b-8a13-772ae8201e0c');\n",
              "          const dataTable =\n",
              "            await google.colab.kernel.invokeFunction('convertToInteractive',\n",
              "                                                     [key], {});\n",
              "          if (!dataTable) return;\n",
              "\n",
              "          const docLinkHtml = 'Like what you see? Visit the ' +\n",
              "            '<a target=\"_blank\" href=https://colab.research.google.com/notebooks/data_table.ipynb>data table notebook</a>'\n",
              "            + ' to learn more about interactive tables.';\n",
              "          element.innerHTML = '';\n",
              "          dataTable['output_type'] = 'display_data';\n",
              "          await google.colab.output.renderOutput(dataTable, element);\n",
              "          const docLink = document.createElement('div');\n",
              "          docLink.innerHTML = docLinkHtml;\n",
              "          element.appendChild(docLink);\n",
              "        }\n",
              "      </script>\n",
              "    </div>\n",
              "  </div>\n",
              "  "
            ],
            "text/plain": [
              "                 CPU    NOTE  MONITOR  IMPRESS\n",
              "REGIAO                                        \n",
              "Sudeste       2957.0   940.0   1750.0   1496.0\n",
              "Centro-Oeste  1514.0  1044.0   1180.0   1229.0\n",
              "Nordeste      1403.0   261.0    804.0    890.0\n",
              "Norte          711.0   183.0    870.0    304.0\n",
              "Sul            507.0   785.0    427.0    228.0"
            ]
          },
          "metadata": {},
          "execution_count": 20
        }
      ],
      "source": [
        "# As regiões que mais foram Contemplados.\n",
        "\n",
        "inclusao.groupby('REGIAO')[['CPU', 'NOTE', 'MONITOR', 'IMPRESS']].max().sort_values(by=['CPU', 'NOTE', 'MONITOR', 'IMPRESS'], ascending = False)[:20]"
      ]
    },
    {
      "cell_type": "code",
      "execution_count": null,
      "metadata": {
        "id": "Y546Ro09SvSG",
        "colab": {
          "base_uri": "https://localhost:8080/",
          "height": 441
        },
        "outputId": "a7f8fe5a-c9fd-4ab6-f00a-9e4288904738"
      },
      "outputs": [
        {
          "output_type": "display_data",
          "data": {
            "image/png": "[encoded data removed]",
            "text/plain": [
              "<Figure size 1080x432 with 1 Axes>"
            ]
          },
          "metadata": {
            "needs_background": "light"
          }
        }
      ],
      "source": [
        "# Gráfico de barra por Regiões.\n",
        "\n",
        "regiao = (inclusao.groupby('REGIAO')[['CPU', 'NOTE', 'MONITOR', 'IMPRESS']].nunique().sort_values(by=['CPU', 'NOTE', 'MONITOR', 'IMPRESS'], ascending = False))[:15]\n",
        "fig, ax = plt.subplots(figsize=(15,6))\n",
        "\n",
        "regiao.plot(kind='bar', ax=ax)\n",
        "ax.set_title('Nº de Regiões')\n",
        "ax.set_ylabel('Quantidade')\n",
        "ax.set_xlabel('Regiões')\n",
        "plt.tight_layout()"
      ]
    },
    {
      "cell_type": "markdown",
      "metadata": {
        "id": "HXOwO7282QCT"
      },
      "source": [
        "### O gráfico mostra que a Região Sudeste é a Centro-Oeste são as mais contemplada com as doações, e a Região Norte é a que recebe menos."
      ]
    },
    {
      "cell_type": "markdown",
      "metadata": {
        "id": "Krfa5GAGSvSH"
      },
      "source": [
        "# Análise de Frequencia de Sexo."
      ]
    },
    {
      "cell_type": "code",
      "execution_count": null,
      "metadata": {
        "id": "cx4OFC3_JtGZ",
        "colab": {
          "base_uri": "https://localhost:8080/",
          "height": 301
        },
        "outputId": "b52bf3bb-f7d6-413c-d849-29ba165ef24f"
      },
      "outputs": [
        {
          "output_type": "display_data",
          "data": {
            "image/png": "[encoded data removed]",
            "text/plain": [
              "<Figure size 432x288 with 1 Axes>"
            ]
          },
          "metadata": {
            "needs_background": "light"
          }
        }
      ],
      "source": [
        "# sexo.\n",
        "\n",
        "sns.countplot(inclusao.SEXO)\n",
        "plt.title(\"Gráfico de Frequência por Sexo\")\n",
        "plt.xlabel(\"Sexo\")\n",
        "plt.ylabel(\"Frequência\")\n",
        "plt.show()"
      ]
    },
    {
      "cell_type": "markdown",
      "metadata": {
        "id": "eY5vfa-7JhMd"
      },
      "source": [
        "#### O Gráfico mostra que a representação Masculina é maior que a Feminina nos cursos."
      ]
    },
    {
      "cell_type": "markdown",
      "metadata": {
        "id": "_JrhyXKySvSH"
      },
      "source": [
        "# Preparação dos modelos de Machine Learning\n",
        "\n",
        "Será utilizada a documentação da biblioteca Scikitlearn https://scikit-learn.org/stable/tutorial/machine_learning_map/, observamos que trata-se de um problema de classificação, portanto, utilizamos os algoritmos recomendados pela biblioteca."
      ]
    },
    {
      "cell_type": "markdown",
      "metadata": {
        "id": "HYyAD8tRhcZG"
      },
      "source": [
        "### Criando as Variáveis "
      ]
    },
    {
      "cell_type": "code",
      "execution_count": null,
      "metadata": {
        "id": "FuLZ9cBEXhhm"
      },
      "outputs": [],
      "source": [
        "# A coluna alvo será a de SEXO.\n",
        "\n",
        "X = inclusao.iloc[:,3:8].values #teste usando só as colunas CPU\tNOTE\tMONITOR\tIMPRESS e CURSO_JOV\t\n",
        "y = inclusao.iloc[:, -1].values"
      ]
    },
    {
      "cell_type": "markdown",
      "metadata": {
        "id": "dho0u1Q1VNgU"
      },
      "source": [
        "### Preparação dos Dados"
      ]
    },
    {
      "cell_type": "code",
      "execution_count": null,
      "metadata": {
        "id": "NiUNL1RmD09T",
        "colab": {
          "base_uri": "https://localhost:8080/"
        },
        "outputId": "903038b1-0c98-4042-f20b-3bf2f675f52a"
      },
      "outputs": [
        {
          "output_type": "stream",
          "name": "stdout",
          "text": [
            "[[1.0 14.0 0.0 5.0 8.0]\n",
            " [1.0 25.0 2.0 1.0 6.0]\n",
            " [1.0 10.0 4.0 5.0 8.0]\n",
            " ...\n",
            " [1.0 23.0 3.0 11.0 12.0]\n",
            " [1.0 325.0 128.0 221.0 65.0]\n",
            " [1.0 6.0 0.0 2.0 7.0]]\n"
          ]
        }
      ],
      "source": [
        "from sklearn.compose import ColumnTransformer # transformadores a colunas de uma matriz ou pandas DataFrame.\n",
        "from sklearn.preprocessing import OneHotEncoder # necessária para alimentar dados categóricos\n",
        "ct = ColumnTransformer(transformers=[('encoder', OneHotEncoder(), [4])], remainder='passthrough')\n",
        "X = np.array(ct.fit_transform(X))\n",
        "print(X)"
      ]
    },
    {
      "cell_type": "markdown",
      "metadata": {
        "id": "XQKh2x_xhf9B"
      },
      "source": [
        "### Separando em Treino e Teste"
      ]
    },
    {
      "cell_type": "code",
      "execution_count": null,
      "metadata": {
        "id": "6rgT3J28SvSI"
      },
      "outputs": [],
      "source": [
        "## Preparar para Treino e Teste.\n",
        "\n",
        "from sklearn.model_selection import train_test_split\n",
        "X_train, X_test, y_train, y_test = train_test_split(X, y, test_size = 0.25, random_state = 0)"
      ]
    },
    {
      "cell_type": "code",
      "execution_count": null,
      "metadata": {
        "id": "qbzxB8NeVKvQ"
      },
      "outputs": [],
      "source": [
        "# Padroniza recursos removendo a média e dimensionando para a variação da unidade.\n",
        "\n",
        "from sklearn.preprocessing import StandardScaler\n",
        "sc = StandardScaler()\n",
        "X_train= sc.fit_transform(X_train)\n",
        "X_test = sc.transform(X_test)"
      ]
    },
    {
      "cell_type": "markdown",
      "metadata": {
        "id": "YXINhIypVLmu"
      },
      "source": [
        "## Criando um Modelo de Naive-Bayes"
      ]
    },
    {
      "cell_type": "markdown",
      "metadata": {
        "id": "vezyDa8HYgLl"
      },
      "source": [
        "#### Treinando o modelo Naive Bayes no conjunto de treinamento"
      ]
    },
    {
      "cell_type": "code",
      "execution_count": null,
      "metadata": {
        "id": "ROWZmtGMSvSI",
        "colab": {
          "base_uri": "https://localhost:8080/"
        },
        "outputId": "9ae6dede-f01f-4a0a-8460-762779d26052"
      },
      "outputs": [
        {
          "output_type": "execute_result",
          "data": {
            "text/plain": [
              "GaussianNB()"
            ]
          },
          "metadata": {},
          "execution_count": 27
        }
      ],
      "source": [
        "from sklearn.naive_bayes import GaussianNB\n",
        "classifier = GaussianNB()\n",
        "classifier.fit(X_train, y_train)"
      ]
    },
    {
      "cell_type": "markdown",
      "metadata": {
        "id": "6XAVVZZZYnyE"
      },
      "source": [
        "#### Prevendo os resultados do conjunto de testes"
      ]
    },
    {
      "cell_type": "code",
      "execution_count": null,
      "metadata": {
        "id": "KKmLAcI4SvSI",
        "colab": {
          "base_uri": "https://localhost:8080/"
        },
        "outputId": "7ff5a21a-a66c-40c6-e33a-3373e4910965"
      },
      "outputs": [
        {
          "output_type": "stream",
          "name": "stdout",
          "text": [
            "[['MAS' 'MAS']\n",
            " ['MAS' 'MAS']\n",
            " ['MAS' 'MAS']\n",
            " ...\n",
            " ['MAS' 'MAS']\n",
            " ['MAS' 'FEM']\n",
            " ['MAS' 'MAS']]\n"
          ]
        }
      ],
      "source": [
        "y_pred = classifier.predict(X_test)\n",
        "print(np.concatenate((y_pred.reshape(len(y_pred),1), y_test.reshape(len(y_test),1)),1))"
      ]
    },
    {
      "cell_type": "markdown",
      "metadata": {
        "id": "KYpY_CPQYzo2"
      },
      "source": [
        "#### Fazendo a Matriz de Confusão"
      ]
    },
    {
      "cell_type": "code",
      "execution_count": null,
      "metadata": {
        "cellView": "code",
        "id": "kRzIFVCISvSI",
        "colab": {
          "base_uri": "https://localhost:8080/"
        },
        "outputId": "baf1a491-5a84-4fa9-aa14-c4f352f9435d"
      },
      "outputs": [
        {
          "output_type": "stream",
          "name": "stdout",
          "text": [
            "[[  20  367]\n",
            " [  98 2555]]\n"
          ]
        },
        {
          "output_type": "execute_result",
          "data": {
            "text/plain": [
              "0.8470394736842105"
            ]
          },
          "metadata": {},
          "execution_count": 29
        }
      ],
      "source": [
        "from sklearn.metrics import confusion_matrix, accuracy_score\n",
        "cm = confusion_matrix(y_test, y_pred)\n",
        "print(cm)\n",
        "accuracy_score(y_test, y_pred)"
      ]
    },
    {
      "cell_type": "code",
      "execution_count": null,
      "metadata": {
        "id": "xI2WbaBV9QQX",
        "colab": {
          "base_uri": "https://localhost:8080/"
        },
        "outputId": "89cd191a-08d8-41de-801d-32fc6d70ec8e"
      },
      "outputs": [
        {
          "output_type": "stream",
          "name": "stdout",
          "text": [
            "              precision    recall  f1-score   support\n",
            "\n",
            "         FEM       0.17      0.05      0.08       387\n",
            "         MAS       0.87      0.96      0.92      2653\n",
            "\n",
            "    accuracy                           0.85      3040\n",
            "   macro avg       0.52      0.51      0.50      3040\n",
            "weighted avg       0.78      0.85      0.81      3040\n",
            "\n"
          ]
        }
      ],
      "source": [
        "print(classification_report(y_test, y_pred))"
      ]
    },
    {
      "cell_type": "markdown",
      "metadata": {
        "id": "l0NGby_qccDz"
      },
      "source": [
        "### Plotando a Matriz de Confusão"
      ]
    },
    {
      "cell_type": "code",
      "execution_count": null,
      "metadata": {
        "id": "Zwd5tALecaPq",
        "colab": {
          "base_uri": "https://localhost:8080/",
          "height": 285
        },
        "outputId": "877f7f72-0daf-498e-c87c-2ab96955d592"
      },
      "outputs": [
        {
          "output_type": "display_data",
          "data": {
            "image/png": "[encoded data removed]",
            "text/plain": [
              "<Figure size 432x288 with 2 Axes>"
            ]
          },
          "metadata": {
            "needs_background": "light"
          }
        }
      ],
      "source": [
        "score = classifier.score(X_test,y_test)\n",
        "matriz = plot_confusion_matrix(classifier, X_test, y_test, cmap = 'Blues', values_format = 'd')"
      ]
    },
    {
      "cell_type": "markdown",
      "metadata": {
        "id": "gKm-Y50dA5xu"
      },
      "source": [
        "## Criando um Modelo SVM"
      ]
    },
    {
      "cell_type": "markdown",
      "metadata": {
        "id": "ljzgGknpHI2X"
      },
      "source": [
        "### Treinando o modelo SVM no conjunto de treinamento"
      ]
    },
    {
      "cell_type": "code",
      "execution_count": null,
      "metadata": {
        "id": "6zxlfEE1BAsT",
        "colab": {
          "base_uri": "https://localhost:8080/"
        },
        "outputId": "fcaf2cac-3c7f-47de-dd88-e0783b2e90cd"
      },
      "outputs": [
        {
          "output_type": "execute_result",
          "data": {
            "text/plain": [
              "SVC(kernel='linear', random_state=0)"
            ]
          },
          "metadata": {},
          "execution_count": 32
        }
      ],
      "source": [
        "from sklearn.svm import SVC\n",
        "classifier = SVC(kernel = 'linear', random_state = 0)\n",
        "classifier.fit(X_train, y_train)"
      ]
    },
    {
      "cell_type": "markdown",
      "metadata": {
        "id": "pp6NIZ74C0xQ"
      },
      "source": [
        "### Prevendo os resultados do conjunto de testes."
      ]
    },
    {
      "cell_type": "code",
      "execution_count": null,
      "metadata": {
        "id": "EEmC0JPAC0xR",
        "colab": {
          "base_uri": "https://localhost:8080/"
        },
        "outputId": "1b76dcbe-6330-427e-e984-4ab139530f39"
      },
      "outputs": [
        {
          "output_type": "stream",
          "name": "stdout",
          "text": [
            "[['MAS' 'MAS']\n",
            " ['MAS' 'MAS']\n",
            " ['MAS' 'MAS']\n",
            " ...\n",
            " ['MAS' 'MAS']\n",
            " ['MAS' 'FEM']\n",
            " ['MAS' 'MAS']]\n"
          ]
        }
      ],
      "source": [
        "y_pred = classifier.predict(X_test)\n",
        "print(np.concatenate((y_pred.reshape(len(y_pred),1), y_test.reshape(len(y_test),1)),1))"
      ]
    },
    {
      "cell_type": "markdown",
      "metadata": {
        "id": "MZWmC_qAC5q_"
      },
      "source": [
        "### Fazendo a Matriz de Confusão."
      ]
    },
    {
      "cell_type": "code",
      "execution_count": null,
      "metadata": {
        "id": "aOy2dl_FC5rA",
        "colab": {
          "base_uri": "https://localhost:8080/"
        },
        "outputId": "db470b6b-b1de-4662-fd9a-32ebbda5d643"
      },
      "outputs": [
        {
          "output_type": "stream",
          "name": "stdout",
          "text": [
            "[[   0  387]\n",
            " [   0 2653]]\n"
          ]
        },
        {
          "output_type": "execute_result",
          "data": {
            "text/plain": [
              "0.8726973684210526"
            ]
          },
          "metadata": {},
          "execution_count": 34
        }
      ],
      "source": [
        "from sklearn.metrics import confusion_matrix, accuracy_score\n",
        "cm = confusion_matrix(y_test, y_pred)\n",
        "print(cm)\n",
        "accuracy_score(y_test, y_pred)"
      ]
    },
    {
      "cell_type": "code",
      "execution_count": null,
      "metadata": {
        "id": "LXwysi0M8Ct7",
        "colab": {
          "base_uri": "https://localhost:8080/"
        },
        "outputId": "25b6fbf3-1cfd-412c-b7c0-c3db0ca66efa"
      },
      "outputs": [
        {
          "output_type": "stream",
          "name": "stdout",
          "text": [
            "              precision    recall  f1-score   support\n",
            "\n",
            "         FEM       0.00      0.00      0.00       387\n",
            "         MAS       0.87      1.00      0.93      2653\n",
            "\n",
            "    accuracy                           0.87      3040\n",
            "   macro avg       0.44      0.50      0.47      3040\n",
            "weighted avg       0.76      0.87      0.81      3040\n",
            "\n"
          ]
        }
      ],
      "source": [
        "print(classification_report(y_test, y_pred))"
      ]
    },
    {
      "cell_type": "markdown",
      "metadata": {
        "id": "ZYkXyCakcff4"
      },
      "source": [
        "### Plotando a Matriz de Confusão"
      ]
    },
    {
      "cell_type": "code",
      "execution_count": null,
      "metadata": {
        "id": "xRADm_Gmb0lU",
        "colab": {
          "base_uri": "https://localhost:8080/",
          "height": 285
        },
        "outputId": "0872d548-13a6-4c2e-9b6c-5a69f6d779b5"
      },
      "outputs": [
        {
          "output_type": "display_data",
          "data": {
            "image/png": "[encoded data removed]",
            "text/plain": [
              "<Figure size 432x288 with 2 Axes>"
            ]
          },
          "metadata": {
            "needs_background": "light"
          }
        }
      ],
      "source": [
        "score = classifier.score(X_test,y_test)\n",
        "matriz = plot_confusion_matrix(classifier, X_test, y_test, cmap = 'Blues', values_format = 'd')"
      ]
    },
    {
      "cell_type": "markdown",
      "metadata": {
        "id": "paZdJGoFOOJX"
      },
      "source": [
        "## Criando um Modelo Decision Tree"
      ]
    },
    {
      "cell_type": "markdown",
      "metadata": {
        "id": "4zSh9ACcPCaG"
      },
      "source": [
        "### Treinando o Modelo no Conjunto de Treino"
      ]
    },
    {
      "cell_type": "code",
      "execution_count": null,
      "metadata": {
        "id": "LoWXGtt4OT2J",
        "colab": {
          "base_uri": "https://localhost:8080/"
        },
        "outputId": "fb0e4672-579d-4161-b5da-5dae1eec3450"
      },
      "outputs": [
        {
          "output_type": "execute_result",
          "data": {
            "text/plain": [
              "DecisionTreeClassifier(criterion='entropy', random_state=0)"
            ]
          },
          "metadata": {},
          "execution_count": 37
        }
      ],
      "source": [
        "from sklearn.tree import DecisionTreeClassifier\n",
        "classifier = DecisionTreeClassifier(criterion = 'entropy', random_state = 0)\n",
        "classifier.fit(X_train, y_train)"
      ]
    },
    {
      "cell_type": "markdown",
      "metadata": {
        "id": "M1CSjgZcOa62"
      },
      "source": [
        "### Prevendo os resultados do conjunto de testes"
      ]
    },
    {
      "cell_type": "code",
      "execution_count": null,
      "metadata": {
        "id": "UXTDV8kmOa65",
        "colab": {
          "base_uri": "https://localhost:8080/"
        },
        "outputId": "9cfe070d-3662-4812-97b3-033c841526e2"
      },
      "outputs": [
        {
          "output_type": "stream",
          "name": "stdout",
          "text": [
            "[['MAS' 'MAS']\n",
            " ['MAS' 'MAS']\n",
            " ['MAS' 'MAS']\n",
            " ...\n",
            " ['MAS' 'MAS']\n",
            " ['MAS' 'FEM']\n",
            " ['MAS' 'MAS']]\n"
          ]
        }
      ],
      "source": [
        "y_pred = classifier.predict(X_test)\n",
        "print(np.concatenate((y_pred.reshape(len(y_pred),1), y_test.reshape(len(y_test),1)),1))"
      ]
    },
    {
      "cell_type": "markdown",
      "metadata": {
        "id": "K7pkfGV6Oe8W"
      },
      "source": [
        "### Fazendo a Matriz de Confusão"
      ]
    },
    {
      "cell_type": "code",
      "execution_count": null,
      "metadata": {
        "id": "7wP9uYLgOe8X",
        "colab": {
          "base_uri": "https://localhost:8080/"
        },
        "outputId": "39c3d7ed-88c2-4887-bc60-62b12ab294ca"
      },
      "outputs": [
        {
          "output_type": "stream",
          "name": "stdout",
          "text": [
            "[[  23  364]\n",
            " [  97 2556]]\n"
          ]
        },
        {
          "output_type": "execute_result",
          "data": {
            "text/plain": [
              "0.8483552631578948"
            ]
          },
          "metadata": {},
          "execution_count": 39
        }
      ],
      "source": [
        "from sklearn.metrics import confusion_matrix, accuracy_score\n",
        "cm = confusion_matrix(y_test, y_pred)\n",
        "print(cm)\n",
        "accuracy_score(y_test, y_pred)"
      ]
    },
    {
      "cell_type": "code",
      "execution_count": null,
      "metadata": {
        "id": "0Yxep_GQ90Vd",
        "colab": {
          "base_uri": "https://localhost:8080/"
        },
        "outputId": "604f8410-7cc9-4e34-cd8a-7dc23b30ac3d"
      },
      "outputs": [
        {
          "output_type": "stream",
          "name": "stdout",
          "text": [
            "              precision    recall  f1-score   support\n",
            "\n",
            "         FEM       0.19      0.06      0.09       387\n",
            "         MAS       0.88      0.96      0.92      2653\n",
            "\n",
            "    accuracy                           0.85      3040\n",
            "   macro avg       0.53      0.51      0.50      3040\n",
            "weighted avg       0.79      0.85      0.81      3040\n",
            "\n"
          ]
        }
      ],
      "source": [
        "print(classification_report(y_test, y_pred))"
      ]
    },
    {
      "cell_type": "markdown",
      "metadata": {
        "id": "WIA_8VXCZU4W"
      },
      "source": [
        "### Plotando a Matriz de Confusão"
      ]
    },
    {
      "cell_type": "code",
      "execution_count": null,
      "metadata": {
        "id": "48P4_4G5ZYzp",
        "colab": {
          "base_uri": "https://localhost:8080/",
          "height": 285
        },
        "outputId": "fdac4cbd-0e87-4352-8746-61917e3ff2e9"
      },
      "outputs": [
        {
          "output_type": "display_data",
          "data": {
            "image/png": "[encoded data removed]",
            "text/plain": [
              "<Figure size 432x288 with 2 Axes>"
            ]
          },
          "metadata": {
            "needs_background": "light"
          }
        }
      ],
      "source": [
        "score = classifier.score(X_test,y_test)\n",
        "matriz = plot_confusion_matrix(classifier, X_test, y_test, cmap = 'Blues', values_format = 'd')"
      ]
    },
    {
      "cell_type": "markdown",
      "metadata": {
        "id": "c6auiKgpOsoi"
      },
      "source": [
        "## Criando um Modelo Random Forest"
      ]
    },
    {
      "cell_type": "markdown",
      "metadata": {
        "id": "h_730p10PGUE"
      },
      "source": [
        "### Treinando o modelo no conjunto de treinamento"
      ]
    },
    {
      "cell_type": "code",
      "execution_count": null,
      "metadata": {
        "id": "aoaqB2l0O2oz",
        "colab": {
          "base_uri": "https://localhost:8080/"
        },
        "outputId": "0ec9d409-6063-4708-bca3-f0f13542df58"
      },
      "outputs": [
        {
          "output_type": "execute_result",
          "data": {
            "text/plain": [
              "RandomForestClassifier(criterion='entropy', n_estimators=10, random_state=0)"
            ]
          },
          "metadata": {},
          "execution_count": 42
        }
      ],
      "source": [
        "from sklearn.ensemble import RandomForestClassifier\n",
        "classifier = RandomForestClassifier(n_estimators = 10, criterion = 'entropy', random_state = 0)\n",
        "classifier.fit(X_train, y_train)"
      ]
    },
    {
      "cell_type": "markdown",
      "metadata": {
        "id": "SD8z2KT0POR1"
      },
      "source": [
        "### Prevendo os resultados do conjunto de testes"
      ]
    },
    {
      "cell_type": "code",
      "execution_count": null,
      "metadata": {
        "id": "dJe3BXSaPOR1",
        "colab": {
          "base_uri": "https://localhost:8080/"
        },
        "outputId": "36f1e1fc-4219-4601-b868-4b00d1d3a66a"
      },
      "outputs": [
        {
          "output_type": "stream",
          "name": "stdout",
          "text": [
            "[['MAS' 'MAS']\n",
            " ['MAS' 'MAS']\n",
            " ['MAS' 'MAS']\n",
            " ...\n",
            " ['MAS' 'MAS']\n",
            " ['MAS' 'FEM']\n",
            " ['MAS' 'MAS']]\n"
          ]
        }
      ],
      "source": [
        "y_pred = classifier.predict(X_test)\n",
        "print(np.concatenate((y_pred.reshape(len(y_pred),1), y_test.reshape(len(y_test),1)),1))"
      ]
    },
    {
      "cell_type": "markdown",
      "metadata": {
        "id": "IFlC7bwMPOR2"
      },
      "source": [
        "### Fazendo a Matriz de Confusão"
      ]
    },
    {
      "cell_type": "code",
      "execution_count": null,
      "metadata": {
        "id": "9C37kDz4POR2",
        "colab": {
          "base_uri": "https://localhost:8080/"
        },
        "outputId": "8db1c225-1c86-4721-b804-2f300343e1c3"
      },
      "outputs": [
        {
          "output_type": "stream",
          "name": "stdout",
          "text": [
            "[[  16  371]\n",
            " [  72 2581]]\n"
          ]
        },
        {
          "output_type": "execute_result",
          "data": {
            "text/plain": [
              "0.8542763157894737"
            ]
          },
          "metadata": {},
          "execution_count": 44
        }
      ],
      "source": [
        "from sklearn.metrics import confusion_matrix, accuracy_score\n",
        "cm = confusion_matrix(y_test, y_pred)\n",
        "print(cm)\n",
        "accuracy_score(y_test, y_pred)"
      ]
    },
    {
      "cell_type": "code",
      "execution_count": null,
      "metadata": {
        "id": "M8AaRVhZ97Ao",
        "colab": {
          "base_uri": "https://localhost:8080/"
        },
        "outputId": "d76aef23-4472-42c0-bc5b-84076c61bc65"
      },
      "outputs": [
        {
          "output_type": "stream",
          "name": "stdout",
          "text": [
            "              precision    recall  f1-score   support\n",
            "\n",
            "         FEM       0.18      0.04      0.07       387\n",
            "         MAS       0.87      0.97      0.92      2653\n",
            "\n",
            "    accuracy                           0.85      3040\n",
            "   macro avg       0.53      0.51      0.49      3040\n",
            "weighted avg       0.79      0.85      0.81      3040\n",
            "\n"
          ]
        }
      ],
      "source": [
        "print(classification_report(y_test, y_pred))"
      ]
    },
    {
      "cell_type": "markdown",
      "metadata": {
        "id": "CB8eRICgcCF7"
      },
      "source": [
        "### Plotando a Matriz de Confusão"
      ]
    },
    {
      "cell_type": "code",
      "execution_count": null,
      "metadata": {
        "id": "ZQCH-3RwmAtg"
      },
      "outputs": [],
      "source": [
        "score = classifier.score(X_test,y_test)"
      ]
    },
    {
      "cell_type": "code",
      "execution_count": null,
      "metadata": {
        "id": "euoHeuM7mfXu",
        "colab": {
          "base_uri": "https://localhost:8080/",
          "height": 285
        },
        "outputId": "14b47490-34b6-4cb9-8803-dc377a66cd66"
      },
      "outputs": [
        {
          "output_type": "display_data",
          "data": {
            "image/png": "[encoded data removed]",
            "text/plain": [
              "<Figure size 432x288 with 2 Axes>"
            ]
          },
          "metadata": {
            "needs_background": "light"
          }
        }
      ],
      "source": [
        "matriz = plot_confusion_matrix(classifier, X_test, y_test, cmap = 'Blues', values_format = 'd')"
      ]
    },
    {
      "cell_type": "markdown",
      "metadata": {
        "id": "vYh3QzMh-hpQ"
      },
      "source": [
        "# Conclusão dos Resultados"
      ]
    },
    {
      "cell_type": "markdown",
      "metadata": {
        "id": "2a3nmZu8-z_B"
      },
      "source": [
        "## Os algoritmos utilizados tiveram uma boa performance, ficaram relativamente com a mesma com variação de acurácia que foi entre 0.85 e 0.87, em quase todos os algortimos. Uma boa peformance para ser usado em um projeto."
      ]
    }
  ],
  "metadata": {
    "colab": {
      "collapsed_sections": [
        "VO5BknumSvR8",
        "qxN5hBFnSvR8",
        "1N2HCdf5SvR-",
        "SYyiiqgTSvSA",
        "cxTti0rNSvSD",
        "81VGY7g8SvSH",
        "1cntDW5AXDLU"
      ],
      "name": "PUCMINAS_TCC_EDON_LEITE_ANÁLISE_ DE_ COMPUTADORES_PARA_NCLUSÃO.ipynb.ipynb",
      "provenance": []
    },
    "kernelspec": {
      "display_name": "Python 3",
      "language": "python",
      "name": "python3"
    },
    "language_info": {
      "codemirror_mode": {
        "name": "ipython",
        "version": 3
      },
      "file_extension": ".py",
      "mimetype": "text/x-python",
      "name": "python",
      "nbconvert_exporter": "python",
      "pygments_lexer": "ipython3",
      "version": "3.8.5"
    }
  },
  "nbformat": 4,
  "nbformat_minor": 0
}